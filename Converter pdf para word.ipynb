{
 "cells": [
  {
   "cell_type": "code",
   "execution_count": null,
   "id": "186b2335-3771-4c97-9b25-fd4066e644f0",
   "metadata": {},
   "outputs": [],
   "source": [
    "pip install PyPDF2"
   ]
  },
  {
   "cell_type": "code",
   "execution_count": null,
   "id": "52be3a21-40f8-4fe0-a0cb-8138ba17aca6",
   "metadata": {
    "scrolled": true
   },
   "outputs": [],
   "source": [
    "import PyPDF2\n",
    "import docx\n",
    "import os"
   ]
  },
  {
   "cell_type": "code",
   "execution_count": null,
   "id": "50385dcb-952e-49b5-a63e-e65a4d6990df",
   "metadata": {
    "scrolled": true
   },
   "outputs": [],
   "source": [
    "diretorio_pdf = \"C:\\\\Users\\\\Rafael Bruno\\\\Documents\\\\Formação Pedagógica\\Resumo das disciplinas\"  # Altere para o seu diretório\n",
    "\n",
    "for arquivo_pdf in os.listdir(diretorio_pdf):\n",
    "    if arquivo_pdf.endswith(\".pdf\"):  # Verifica se é um arquivo PDF\n",
    "        nome_arquivo_sem_extensao, extensao = os.path.splitext(arquivo_pdf)\n",
    "\n",
    "with open(os.path.join(diretorio_pdf, arquivo_pdf), \"rb\") as f:\n",
    "    leitor_pdf = PyPDF2.PdfReader(f)\n",
    "    pagina_1 = leitor_pdf.pages[0]  # Extrai a primeira página (ajuste se necessário)\n",
    "    conteudo_texto = pagina_1.extract_text()\n",
    "\n",
    "documento_word = docx.Document()\n",
    "paragrafos = documento_word.add_paragraph()\n",
    "\n",
    "paragrafos.add_run(conteudo_texto).font.size = 12\n",
    "paragrafos.style = documento_word.styles['Normal']\n",
    "\n",
    "diretorio_word = \"C:\\\\Users\\\\Rafael Bruno\\\\Documents\\\\Formação Pedagógica\\\\Resumo das disciplinas\\\\diretorio_word\"\n",
    "\n",
    "documento_word.save(os.path.join(diretorio_word, nome_arquivo_sem_extensao + \".docx\"))\n"
   ]
  },
  {
   "cell_type": "code",
   "execution_count": null,
   "id": "90dea23a-a5af-42a9-945f-6462b65504ef",
   "metadata": {},
   "outputs": [],
   "source": []
  },
  {
   "cell_type": "code",
   "execution_count": 1,
   "id": "ad70d279-e74b-432f-ba78-ca7d54f62402",
   "metadata": {},
   "outputs": [
    {
     "name": "stderr",
     "output_type": "stream",
     "text": [
      "[INFO] Start to convert Didática.pdf\n",
      "[INFO] \u001b[1;36m[1/4] Opening document...\u001b[0m\n",
      "[INFO] \u001b[1;36m[2/4] Analyzing document...\u001b[0m\n",
      "[INFO] \u001b[1;36m[3/4] Parsing pages...\u001b[0m\n",
      "[INFO] (1/9) Page 1\n",
      "[INFO] (2/9) Page 2\n",
      "[INFO] (3/9) Page 3\n",
      "[INFO] (4/9) Page 4\n",
      "[INFO] (5/9) Page 5\n",
      "[INFO] (6/9) Page 6\n",
      "[INFO] (7/9) Page 7\n",
      "[INFO] (8/9) Page 8\n",
      "[INFO] (9/9) Page 9\n",
      "[INFO] \u001b[1;36m[4/4] Creating pages...\u001b[0m\n",
      "[INFO] (1/9) Page 1\n",
      "[INFO] (2/9) Page 2\n",
      "[INFO] (3/9) Page 3\n",
      "[INFO] (4/9) Page 4\n",
      "[INFO] (5/9) Page 5\n",
      "[INFO] (6/9) Page 6\n",
      "[ERROR] Ignore page 6 due to making page error: list index out of range\n",
      "[INFO] (7/9) Page 7\n",
      "[INFO] (8/9) Page 8\n",
      "[INFO] (9/9) Page 9\n",
      "[INFO] Terminated in 7.49s.\n",
      "[INFO] Start to convert Fund. da Educ. de Jovens e Adultos e Educ. Popular.pdf\n",
      "[INFO] \u001b[1;36m[1/4] Opening document...\u001b[0m\n",
      "[INFO] \u001b[1;36m[2/4] Analyzing document...\u001b[0m\n"
     ]
    },
    {
     "name": "stdout",
     "output_type": "stream",
     "text": [
      "Didática.pdf convertido com sucesso para Didática.docx\n"
     ]
    },
    {
     "name": "stderr",
     "output_type": "stream",
     "text": [
      "[INFO] \u001b[1;36m[3/4] Parsing pages...\u001b[0m\n",
      "[INFO] (1/13) Page 1\n",
      "[INFO] (2/13) Page 2\n",
      "[INFO] (3/13) Page 3\n",
      "[INFO] (4/13) Page 4\n",
      "[INFO] (5/13) Page 5\n",
      "[INFO] (6/13) Page 6\n",
      "[INFO] (7/13) Page 7\n",
      "[INFO] (8/13) Page 8\n",
      "[INFO] (9/13) Page 9\n",
      "[INFO] (10/13) Page 10\n",
      "[INFO] (11/13) Page 11\n",
      "[INFO] (12/13) Page 12\n",
      "[INFO] (13/13) Page 13\n",
      "[INFO] \u001b[1;36m[4/4] Creating pages...\u001b[0m\n",
      "[INFO] (1/13) Page 1\n",
      "[INFO] (2/13) Page 2\n",
      "[INFO] (3/13) Page 3\n",
      "[INFO] (4/13) Page 4\n",
      "[INFO] (5/13) Page 5\n",
      "[INFO] (6/13) Page 6\n",
      "[INFO] (7/13) Page 7\n",
      "[INFO] (8/13) Page 8\n",
      "[INFO] (9/13) Page 9\n",
      "[INFO] (10/13) Page 10\n",
      "[INFO] (11/13) Page 11\n",
      "[INFO] (12/13) Page 12\n",
      "[INFO] (13/13) Page 13\n",
      "[INFO] Terminated in 14.90s.\n",
      "[INFO] Start to convert Fundamentos da Educação.pdf\n",
      "[INFO] \u001b[1;36m[1/4] Opening document...\u001b[0m\n",
      "[INFO] \u001b[1;36m[2/4] Analyzing document...\u001b[0m\n"
     ]
    },
    {
     "name": "stdout",
     "output_type": "stream",
     "text": [
      "Fund. da Educ. de Jovens e Adultos e Educ. Popular.pdf convertido com sucesso para Fund. da Educ. de Jovens e Adultos e Educ. Popular.docx\n"
     ]
    },
    {
     "name": "stderr",
     "output_type": "stream",
     "text": [
      "[INFO] \u001b[1;36m[3/4] Parsing pages...\u001b[0m\n",
      "[INFO] (1/21) Page 1\n",
      "[INFO] (2/21) Page 2\n",
      "[INFO] (3/21) Page 3\n",
      "[INFO] (4/21) Page 4\n",
      "[INFO] (5/21) Page 5\n",
      "[INFO] (6/21) Page 6\n",
      "[INFO] (7/21) Page 7\n",
      "[INFO] (8/21) Page 8\n",
      "[INFO] (9/21) Page 9\n",
      "[INFO] (10/21) Page 10\n",
      "[INFO] (11/21) Page 11\n",
      "[INFO] (12/21) Page 12\n",
      "[INFO] (13/21) Page 13\n",
      "[INFO] (14/21) Page 14\n",
      "[INFO] (15/21) Page 15\n",
      "[INFO] (16/21) Page 16\n",
      "[INFO] (17/21) Page 17\n",
      "[INFO] (18/21) Page 18\n",
      "[INFO] (19/21) Page 19\n",
      "[INFO] (20/21) Page 20\n",
      "[INFO] (21/21) Page 21\n",
      "[INFO] \u001b[1;36m[4/4] Creating pages...\u001b[0m\n",
      "[INFO] (1/21) Page 1\n",
      "[INFO] (2/21) Page 2\n",
      "[INFO] (3/21) Page 3\n",
      "[INFO] (4/21) Page 4\n",
      "[INFO] (5/21) Page 5\n",
      "[INFO] (6/21) Page 6\n",
      "[INFO] (7/21) Page 7\n",
      "[INFO] (8/21) Page 8\n",
      "[INFO] (9/21) Page 9\n",
      "[ERROR] Ignore page 9 due to making page error: no cell on grid column 1\n",
      "[INFO] (10/21) Page 10\n",
      "[INFO] (11/21) Page 11\n",
      "[INFO] (12/21) Page 12\n",
      "[INFO] (13/21) Page 13\n",
      "[INFO] (14/21) Page 14\n",
      "[INFO] (15/21) Page 15\n",
      "[INFO] (16/21) Page 16\n",
      "[INFO] (17/21) Page 17\n",
      "[INFO] (18/21) Page 18\n",
      "[INFO] (19/21) Page 19\n",
      "[INFO] (20/21) Page 20\n",
      "[INFO] (21/21) Page 21\n",
      "[INFO] Terminated in 22.59s.\n",
      "[INFO] Start to convert Geometria Plana.pdf\n",
      "[INFO] \u001b[1;36m[1/4] Opening document...\u001b[0m\n",
      "[INFO] \u001b[1;36m[2/4] Analyzing document...\u001b[0m\n"
     ]
    },
    {
     "name": "stdout",
     "output_type": "stream",
     "text": [
      "Fundamentos da Educação.pdf convertido com sucesso para Fundamentos da Educação.docx\n"
     ]
    },
    {
     "name": "stderr",
     "output_type": "stream",
     "text": [
      "[INFO] \u001b[1;36m[3/4] Parsing pages...\u001b[0m\n",
      "[INFO] (1/10) Page 1\n",
      "[INFO] (2/10) Page 2\n",
      "[INFO] (3/10) Page 3\n",
      "[INFO] (4/10) Page 4\n",
      "[INFO] (5/10) Page 5\n",
      "[INFO] (6/10) Page 6\n",
      "[INFO] (7/10) Page 7\n",
      "[INFO] (8/10) Page 8\n",
      "[INFO] (9/10) Page 9\n",
      "[INFO] (10/10) Page 10\n",
      "[INFO] \u001b[1;36m[4/4] Creating pages...\u001b[0m\n",
      "[INFO] (1/10) Page 1\n",
      "[INFO] (2/10) Page 2\n",
      "[INFO] (3/10) Page 3\n",
      "[INFO] (4/10) Page 4\n",
      "[INFO] (5/10) Page 5\n",
      "[ERROR] Ignore page 5 due to making page error: no cell on grid column 2\n",
      "[INFO] (6/10) Page 6\n",
      "[INFO] (7/10) Page 7\n",
      "[INFO] (8/10) Page 8\n",
      "[ERROR] Ignore page 8 due to making page error: list index out of range\n",
      "[INFO] (9/10) Page 9\n",
      "[ERROR] Ignore page 9 due to making page error: list index out of range\n",
      "[INFO] (10/10) Page 10\n",
      "[INFO] Terminated in 39.51s.\n",
      "[INFO] Start to convert História da Matemática.pdf\n",
      "[INFO] \u001b[1;36m[1/4] Opening document...\u001b[0m\n",
      "[INFO] \u001b[1;36m[2/4] Analyzing document...\u001b[0m\n"
     ]
    },
    {
     "name": "stdout",
     "output_type": "stream",
     "text": [
      "Geometria Plana.pdf convertido com sucesso para Geometria Plana.docx\n"
     ]
    },
    {
     "name": "stderr",
     "output_type": "stream",
     "text": [
      "[INFO] \u001b[1;36m[3/4] Parsing pages...\u001b[0m\n",
      "[INFO] (1/10) Page 1\n",
      "[INFO] (2/10) Page 2\n",
      "[INFO] (3/10) Page 3\n",
      "[INFO] (4/10) Page 4\n",
      "[INFO] (5/10) Page 5\n",
      "[INFO] (6/10) Page 6\n",
      "[INFO] (7/10) Page 7\n",
      "[INFO] (8/10) Page 8\n",
      "[INFO] (9/10) Page 9\n",
      "[INFO] (10/10) Page 10\n",
      "[INFO] \u001b[1;36m[4/4] Creating pages...\u001b[0m\n",
      "[INFO] (1/10) Page 1\n",
      "[INFO] (2/10) Page 2\n",
      "[INFO] (3/10) Page 3\n",
      "[INFO] (4/10) Page 4\n",
      "[INFO] (5/10) Page 5\n",
      "[ERROR] Ignore page 5 due to making page error: no cell on grid column 1\n",
      "[INFO] (6/10) Page 6\n",
      "[INFO] (7/10) Page 7\n",
      "[INFO] (8/10) Page 8\n",
      "[ERROR] Ignore page 8 due to making page error: list index out of range\n",
      "[INFO] (9/10) Page 9\n",
      "[ERROR] Ignore page 9 due to making page error: list index out of range\n",
      "[INFO] (10/10) Page 10\n",
      "[INFO] Terminated in 11.51s.\n",
      "[INFO] Start to convert Matemática Instrumental.pdf\n",
      "[INFO] \u001b[1;36m[1/4] Opening document...\u001b[0m\n",
      "[INFO] \u001b[1;36m[2/4] Analyzing document...\u001b[0m\n"
     ]
    },
    {
     "name": "stdout",
     "output_type": "stream",
     "text": [
      "História da Matemática.pdf convertido com sucesso para História da Matemática.docx\n"
     ]
    },
    {
     "name": "stderr",
     "output_type": "stream",
     "text": [
      "[INFO] \u001b[1;36m[3/4] Parsing pages...\u001b[0m\n",
      "[INFO] (1/5) Page 1\n",
      "[INFO] (2/5) Page 2\n",
      "[INFO] (3/5) Page 3\n",
      "[INFO] (4/5) Page 4\n",
      "[INFO] (5/5) Page 5\n",
      "[INFO] \u001b[1;36m[4/4] Creating pages...\u001b[0m\n",
      "[INFO] (1/5) Page 1\n",
      "[INFO] (2/5) Page 2\n",
      "[INFO] (3/5) Page 3\n",
      "[INFO] (4/5) Page 4\n",
      "[INFO] (5/5) Page 5\n",
      "[INFO] Terminated in 6.00s.\n",
      "[INFO] Start to convert Metod. do Ensino da Matemática e Suas Tecnologias.pdf\n",
      "[INFO] \u001b[1;36m[1/4] Opening document...\u001b[0m\n",
      "[INFO] \u001b[1;36m[2/4] Analyzing document...\u001b[0m\n"
     ]
    },
    {
     "name": "stdout",
     "output_type": "stream",
     "text": [
      "Matemática Instrumental.pdf convertido com sucesso para Matemática Instrumental.docx\n"
     ]
    },
    {
     "name": "stderr",
     "output_type": "stream",
     "text": [
      "[INFO] \u001b[1;36m[3/4] Parsing pages...\u001b[0m\n",
      "[INFO] (1/17) Page 1\n",
      "[INFO] (2/17) Page 2\n",
      "[INFO] (3/17) Page 3\n",
      "[INFO] (4/17) Page 4\n",
      "[INFO] (5/17) Page 5\n",
      "[INFO] (6/17) Page 6\n",
      "[INFO] (7/17) Page 7\n",
      "[INFO] (8/17) Page 8\n",
      "[INFO] (9/17) Page 9\n",
      "[INFO] (10/17) Page 10\n",
      "[INFO] (11/17) Page 11\n",
      "[INFO] (12/17) Page 12\n",
      "[INFO] (13/17) Page 13\n",
      "[INFO] (14/17) Page 14\n",
      "[INFO] (15/17) Page 15\n",
      "[INFO] (16/17) Page 16\n",
      "[INFO] (17/17) Page 17\n",
      "[INFO] \u001b[1;36m[4/4] Creating pages...\u001b[0m\n",
      "[INFO] (1/17) Page 1\n",
      "[INFO] (2/17) Page 2\n",
      "[INFO] (3/17) Page 3\n",
      "[INFO] (4/17) Page 4\n",
      "[INFO] (5/17) Page 5\n",
      "[ERROR] Ignore page 5 due to making page error: list index out of range\n",
      "[INFO] (6/17) Page 6\n",
      "[INFO] (7/17) Page 7\n",
      "[INFO] (8/17) Page 8\n",
      "[INFO] (9/17) Page 9\n",
      "[INFO] (10/17) Page 10\n",
      "[INFO] (11/17) Page 11\n",
      "[INFO] (12/17) Page 12\n",
      "[INFO] (13/17) Page 13\n",
      "[INFO] (14/17) Page 14\n",
      "[INFO] (15/17) Page 15\n",
      "[INFO] (16/17) Page 16\n",
      "[INFO] (17/17) Page 17\n",
      "[INFO] Terminated in 18.31s.\n",
      "[INFO] Start to convert Mídias Digitais e Metodologias Ativas.pdf\n",
      "[INFO] \u001b[1;36m[1/4] Opening document...\u001b[0m\n",
      "[INFO] \u001b[1;36m[2/4] Analyzing document...\u001b[0m\n"
     ]
    },
    {
     "name": "stdout",
     "output_type": "stream",
     "text": [
      "Metod. do Ensino da Matemática e Suas Tecnologias.pdf convertido com sucesso para Metod. do Ensino da Matemática e Suas Tecnologias.docx\n"
     ]
    },
    {
     "name": "stderr",
     "output_type": "stream",
     "text": [
      "[INFO] \u001b[1;36m[3/4] Parsing pages...\u001b[0m\n",
      "[INFO] (1/16) Page 1\n",
      "[INFO] (2/16) Page 2\n",
      "[INFO] (3/16) Page 3\n",
      "[INFO] (4/16) Page 4\n",
      "[INFO] (5/16) Page 5\n",
      "[INFO] (6/16) Page 6\n",
      "[INFO] (7/16) Page 7\n",
      "[INFO] (8/16) Page 8\n",
      "[INFO] (9/16) Page 9\n",
      "[INFO] (10/16) Page 10\n",
      "[INFO] (11/16) Page 11\n",
      "[INFO] (12/16) Page 12\n",
      "[INFO] (13/16) Page 13\n",
      "[INFO] (14/16) Page 14\n",
      "[INFO] (15/16) Page 15\n",
      "[INFO] (16/16) Page 16\n",
      "[INFO] \u001b[1;36m[4/4] Creating pages...\u001b[0m\n",
      "[INFO] (1/16) Page 1\n",
      "[INFO] (2/16) Page 2\n",
      "[INFO] (3/16) Page 3\n",
      "[INFO] (4/16) Page 4\n",
      "[INFO] (5/16) Page 5\n",
      "[INFO] (6/16) Page 6\n",
      "[ERROR] Ignore page 6 due to making page error: no cell on grid column 1\n",
      "[INFO] (7/16) Page 7\n",
      "[ERROR] Ignore page 7 due to making page error: list index out of range\n",
      "[INFO] (8/16) Page 8\n",
      "[ERROR] Ignore page 8 due to making page error: list index out of range\n",
      "[INFO] (9/16) Page 9\n",
      "[ERROR] Ignore page 9 due to making page error: list index out of range\n",
      "[INFO] (10/16) Page 10\n",
      "[ERROR] Ignore page 10 due to making page error: list index out of range\n",
      "[INFO] (11/16) Page 11\n",
      "[ERROR] Ignore page 11 due to making page error: list index out of range\n",
      "[INFO] (12/16) Page 12\n",
      "[ERROR] Ignore page 12 due to making page error: list index out of range\n",
      "[INFO] (13/16) Page 13\n",
      "[ERROR] Ignore page 13 due to making page error: list index out of range\n",
      "[INFO] (14/16) Page 14\n",
      "[INFO] (15/16) Page 15\n",
      "[INFO] (16/16) Page 16\n",
      "[ERROR] Ignore page 16 due to making page error: list index out of range\n",
      "[INFO] Terminated in 47.21s.\n",
      "[INFO] Start to convert Políticas Públicas e Organização da Educ Básica.pdf\n",
      "[INFO] \u001b[1;36m[1/4] Opening document...\u001b[0m\n",
      "[INFO] \u001b[1;36m[2/4] Analyzing document...\u001b[0m\n"
     ]
    },
    {
     "name": "stdout",
     "output_type": "stream",
     "text": [
      "Mídias Digitais e Metodologias Ativas.pdf convertido com sucesso para Mídias Digitais e Metodologias Ativas.docx\n"
     ]
    },
    {
     "name": "stderr",
     "output_type": "stream",
     "text": [
      "[INFO] \u001b[1;36m[3/4] Parsing pages...\u001b[0m\n",
      "[INFO] (1/11) Page 1\n",
      "[INFO] (2/11) Page 2\n",
      "[INFO] (3/11) Page 3\n",
      "[INFO] (4/11) Page 4\n",
      "[INFO] (5/11) Page 5\n",
      "[INFO] (6/11) Page 6\n",
      "[INFO] (7/11) Page 7\n",
      "[INFO] (8/11) Page 8\n",
      "[INFO] (9/11) Page 9\n",
      "[INFO] (10/11) Page 10\n",
      "[INFO] (11/11) Page 11\n",
      "[INFO] \u001b[1;36m[4/4] Creating pages...\u001b[0m\n",
      "[INFO] (1/11) Page 1\n",
      "[INFO] (2/11) Page 2\n",
      "[INFO] (3/11) Page 3\n",
      "[INFO] (4/11) Page 4\n",
      "[INFO] (5/11) Page 5\n",
      "[INFO] (6/11) Page 6\n",
      "[INFO] (7/11) Page 7\n",
      "[INFO] (8/11) Page 8\n",
      "[INFO] (9/11) Page 9\n",
      "[INFO] (10/11) Page 10\n",
      "[INFO] (11/11) Page 11\n",
      "[INFO] Terminated in 21.08s.\n",
      "[INFO] Start to convert Tópico em Libras Surdez e Inclusão.pdf\n",
      "[INFO] \u001b[1;36m[1/4] Opening document...\u001b[0m\n",
      "[INFO] \u001b[1;36m[2/4] Analyzing document...\u001b[0m\n"
     ]
    },
    {
     "name": "stdout",
     "output_type": "stream",
     "text": [
      "Políticas Públicas e Organização da Educ Básica.pdf convertido com sucesso para Políticas Públicas e Organização da Educ Básica.docx\n"
     ]
    },
    {
     "name": "stderr",
     "output_type": "stream",
     "text": [
      "[INFO] \u001b[1;36m[3/4] Parsing pages...\u001b[0m\n",
      "[INFO] (1/7) Page 1\n",
      "[INFO] (2/7) Page 2\n",
      "[INFO] (3/7) Page 3\n",
      "[INFO] (4/7) Page 4\n",
      "[INFO] (5/7) Page 5\n",
      "[INFO] (6/7) Page 6\n",
      "[INFO] (7/7) Page 7\n",
      "[INFO] \u001b[1;36m[4/4] Creating pages...\u001b[0m\n",
      "[INFO] (1/7) Page 1\n",
      "[INFO] (2/7) Page 2\n",
      "[INFO] (3/7) Page 3\n",
      "[INFO] (4/7) Page 4\n",
      "[INFO] (5/7) Page 5\n",
      "[INFO] (6/7) Page 6\n",
      "[INFO] (7/7) Page 7\n",
      "[ERROR] Ignore page 7 due to making page error: list index out of range\n",
      "[INFO] Terminated in 17.68s.\n"
     ]
    },
    {
     "name": "stdout",
     "output_type": "stream",
     "text": [
      "Tópico em Libras Surdez e Inclusão.pdf convertido com sucesso para Tópico em Libras Surdez e Inclusão.docx\n"
     ]
    }
   ],
   "source": [
    "from pdf2docx import Converter\n",
    "\n",
    "# Lista dos nomes dos arquivos PDF que você deseja converter\n",
    "pdf_files = [\n",
    "    \"Didática.pdf\",\n",
    "    \"Fund. da Educ. de Jovens e Adultos e Educ. Popular.pdf\",\n",
    "    \"Fundamentos da Educação.pdf\",\n",
    "    \"Geometria Plana.pdf\",\n",
    "    \"História da Matemática.pdf\",\n",
    "    \"Matemática Instrumental.pdf\",\n",
    "    \"Metod. do Ensino da Matemática e Suas Tecnologias.pdf\",\n",
    "    \"Mídias Digitais e Metodologias Ativas.pdf\",\n",
    "    \"Políticas Públicas e Organização da Educ Básica.pdf\",\n",
    "    \"Tópico em Libras Surdez e Inclusão.pdf\",\n",
    "]\n",
    "\n",
    "# Função para converter PDF para Word\n",
    "def convert_to_word(pdf_file):\n",
    "    # Nome do arquivo de saída (Word)\n",
    "    output_file = pdf_file.replace(\".pdf\", \".docx\")\n",
    "    \n",
    "    # Converter PDF para Word\n",
    "    cv = Converter(pdf_file)\n",
    "    cv.convert(output_file, start=0, end=None)\n",
    "    cv.close()\n",
    "    print(f\"{pdf_file} convertido com sucesso para {output_file}\")\n",
    "\n",
    "# Loop através da lista de arquivos PDF\n",
    "for pdf_file in pdf_files:\n",
    "    convert_to_word(pdf_file)\n"
   ]
  },
  {
   "cell_type": "code",
   "execution_count": null,
   "id": "ac0dfdae-bd45-4a2e-b007-8825a2c9854a",
   "metadata": {},
   "outputs": [],
   "source": [
    "pip install pdf2docx"
   ]
  }
 ],
 "metadata": {
  "kernelspec": {
   "display_name": "Python 3 (ipykernel)",
   "language": "python",
   "name": "python3"
  },
  "language_info": {
   "codemirror_mode": {
    "name": "ipython",
    "version": 3
   },
   "file_extension": ".py",
   "mimetype": "text/x-python",
   "name": "python",
   "nbconvert_exporter": "python",
   "pygments_lexer": "ipython3",
   "version": "3.11.7"
  }
 },
 "nbformat": 4,
 "nbformat_minor": 5
}
