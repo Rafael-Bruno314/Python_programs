{
 "cells": [
  {
   "cell_type": "code",
   "execution_count": 17,
   "id": "33b2a610-8362-4d43-b89e-244cfa898d3d",
   "metadata": {},
   "outputs": [],
   "source": [
    "from selenium import webdriver\n",
    "from selenium.webdriver.common.by import By\n",
    "from selenium.webdriver.support.ui import WebDriverWait\n",
    "from selenium.webdriver.support.select import Select\n",
    "\n",
    "options = webdriver.ChromeOptions()\n",
    "options.add_argument(\"--start-maximized\")\n",
    "driver = webdriver.Chrome(options=options)\n",
    "\n",
    "driver.get(\"https://www.sciencedirect.com/\")\n",
    "driver.implicitly_wait(3)\n",
    "\n",
    "text_box = driver.find_element(by=By.ID, value=\"qs\")\n",
    "text_box.send_keys(\"bioinspired nanostructures for bactericidal surface\")\n",
    "\n",
    "submit_button = driver.find_element(by=By.XPATH, value=\"/html/body/div[1]/div/div[1]/div[2]/div[1]/div/div/form/div[2]/button\")\n",
    "submit_button.click()\n",
    "\n",
    "driver.implicitly_wait(9)\n",
    "cookie = driver.find_element(by=By.ID, value=\"onetrust-accept-btn-handler\")\n",
    "cookie.click()\n",
    "\n",
    "text_box = driver.find_element(by=By.ID, value=\"bdd-email\")\n",
    "text_box.send_keys(\"ufmg\")\n",
    "\n",
    "submit_button = driver.find_element(by=By.XPATH, value=\"/html/body/div[1]/section/main/div[2]/div[2]/div/form/div[2]/div/div/form/button\")\n",
    "submit_button.click()\n",
    "\n",
    "driver.implicitly_wait(3)\n",
    "confirma = driver.find_element(by=By.ID, value=\"bdd-elsPrimaryBtn2\")\n",
    "confirma.click()\n",
    "\n",
    "username = driver.find_element(by=By.ID, value=\"username\")\n",
    "username.send_keys(\"rafael-bruno12\")\n",
    "password = driver.find_element(by=By.ID, value=\"password\")\n",
    "password.send_keys(\"Antimateria1@\")\n",
    "submit_button = driver.find_element(by=By.XPATH, value=\"/html/body/div/div/div/form/button\")\n",
    "submit_button.click()\n",
    "\n",
    "driver.implicitly_wait(7)\n",
    "filter_2022 = driver.find_element(by=By.XPATH, value=\"/html/body/div[1]/div/div/div/div/div/div/section/div/div[2]/div[1]/div[3]/form/div[2]/div[1]/fieldset/ol/li[3]/div/label/span[2]\")\n",
    "filter_2022.click()\n",
    "driver.implicitly_wait(1)\n",
    "filter_2023 = driver.find_element(by=By.XPATH, value=\"/html/body/div[1]/div/div/div/div/div/div/section/div/div[2]/div[1]/div[3]/form/div[2]/div[1]/fieldset/ol/li[2]/div/label/span[2]\")\n",
    "filter_2023.click()\n",
    "driver.implicitly_wait(1)\n",
    "filter_2024 = driver.find_element(by=By.XPATH, value=\"/html/body/div[1]/div/div/div/div/div/div/section/div/div[2]/div[1]/div[3]/form/div[2]/div[1]/fieldset/ol/li[1]/div/label/span[2]\")\n",
    "filter_2024.click()\n",
    "driver.implicitly_wait(1)\n",
    "filter_research = driver.find_element(by=By.XPATH, value=\"/html/body/div[1]/div/div/div/div/div/div/section/div/div[2]/div[1]/div[3]/form/div[2]/div[2]/fieldset/ol/li[2]/div/label/span[2]\")\n",
    "filter_research.click()\n",
    "driver.implicitly_wait(1)"
   ]
  }
 ],
 "metadata": {
  "kernelspec": {
   "display_name": "Python 3 (ipykernel)",
   "language": "python",
   "name": "python3"
  },
  "language_info": {
   "codemirror_mode": {
    "name": "ipython",
    "version": 3
   },
   "file_extension": ".py",
   "mimetype": "text/x-python",
   "name": "python",
   "nbconvert_exporter": "python",
   "pygments_lexer": "ipython3",
   "version": "3.11.7"
  }
 },
 "nbformat": 4,
 "nbformat_minor": 5
}
