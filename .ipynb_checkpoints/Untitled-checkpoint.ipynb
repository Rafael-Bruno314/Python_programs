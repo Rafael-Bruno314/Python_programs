{
 "cells": [
  {
   "cell_type": "code",
   "execution_count": 3,
   "id": "186b2335-3771-4c97-9b25-fd4066e644f0",
   "metadata": {},
   "outputs": [
    {
     "name": "stdout",
     "output_type": "stream",
     "text": [
      "Defaulting to user installation because normal site-packages is not writeable\n",
      "Requirement already satisfied: PyPDF2 in c:\\users\\rafael bruno\\appdata\\roaming\\python\\python311\\site-packages (3.0.1)\n",
      "Note: you may need to restart the kernel to use updated packages.\n"
     ]
    }
   ],
   "source": [
    "pip install PyPDF2"
   ]
  },
  {
   "cell_type": "code",
   "execution_count": 1,
   "id": "52be3a21-40f8-4fe0-a0cb-8138ba17aca6",
   "metadata": {
    "scrolled": true
   },
   "outputs": [],
   "source": [
    "import PyPDF2\n",
    "import docx\n",
    "import os"
   ]
  },
  {
   "cell_type": "code",
   "execution_count": 9,
   "id": "50385dcb-952e-49b5-a63e-e65a4d6990df",
   "metadata": {
    "scrolled": true
   },
   "outputs": [
    {
     "ename": "FileNotFoundError",
     "evalue": "[Errno 2] No such file or directory: 'C:\\\\Users\\\\Rafael Bruno\\\\Documents\\\\Formação Pedagógica\\\\Resumo das disciplinas\\\\diretorio_word\\\\Tópico em Libras Surdez e Inclusão.docx'",
     "output_type": "error",
     "traceback": [
      "\u001b[1;31m---------------------------------------------------------------------------\u001b[0m",
      "\u001b[1;31mFileNotFoundError\u001b[0m                         Traceback (most recent call last)",
      "Cell \u001b[1;32mIn[9], line 20\u001b[0m\n\u001b[0;32m     16\u001b[0m paragrafos\u001b[38;5;241m.\u001b[39mstyle \u001b[38;5;241m=\u001b[39m documento_word\u001b[38;5;241m.\u001b[39mstyles[\u001b[38;5;124m'\u001b[39m\u001b[38;5;124mNormal\u001b[39m\u001b[38;5;124m'\u001b[39m]\n\u001b[0;32m     18\u001b[0m diretorio_word \u001b[38;5;241m=\u001b[39m \u001b[38;5;124m\"\u001b[39m\u001b[38;5;124mC:\u001b[39m\u001b[38;5;130;01m\\\\\u001b[39;00m\u001b[38;5;124mUsers\u001b[39m\u001b[38;5;130;01m\\\\\u001b[39;00m\u001b[38;5;124mRafael Bruno\u001b[39m\u001b[38;5;130;01m\\\\\u001b[39;00m\u001b[38;5;124mDocuments\u001b[39m\u001b[38;5;130;01m\\\\\u001b[39;00m\u001b[38;5;124mFormação Pedagógica\u001b[39m\u001b[38;5;130;01m\\\\\u001b[39;00m\u001b[38;5;124mResumo das disciplinas\u001b[39m\u001b[38;5;130;01m\\\\\u001b[39;00m\u001b[38;5;124mdiretorio_word\u001b[39m\u001b[38;5;124m\"\u001b[39m\n\u001b[1;32m---> 20\u001b[0m documento_word\u001b[38;5;241m.\u001b[39msave(os\u001b[38;5;241m.\u001b[39mpath\u001b[38;5;241m.\u001b[39mjoin(diretorio_word, nome_arquivo_sem_extensao \u001b[38;5;241m+\u001b[39m \u001b[38;5;124m\"\u001b[39m\u001b[38;5;124m.docx\u001b[39m\u001b[38;5;124m\"\u001b[39m))\n",
      "File \u001b[1;32m~\\AppData\\Roaming\\Python\\Python311\\site-packages\\docx\\document.py:151\u001b[0m, in \u001b[0;36mDocument.save\u001b[1;34m(self, path_or_stream)\u001b[0m\n\u001b[0;32m    145\u001b[0m \u001b[38;5;28;01mdef\u001b[39;00m \u001b[38;5;21msave\u001b[39m(\u001b[38;5;28mself\u001b[39m, path_or_stream: \u001b[38;5;28mstr\u001b[39m \u001b[38;5;241m|\u001b[39m IO[\u001b[38;5;28mbytes\u001b[39m]):\n\u001b[0;32m    146\u001b[0m \u001b[38;5;250m    \u001b[39m\u001b[38;5;124;03m\"\"\"Save this document to `path_or_stream`.\u001b[39;00m\n\u001b[0;32m    147\u001b[0m \n\u001b[0;32m    148\u001b[0m \u001b[38;5;124;03m    `path_or_stream` can be either a path to a filesystem location (a string) or a\u001b[39;00m\n\u001b[0;32m    149\u001b[0m \u001b[38;5;124;03m    file-like object.\u001b[39;00m\n\u001b[0;32m    150\u001b[0m \u001b[38;5;124;03m    \"\"\"\u001b[39;00m\n\u001b[1;32m--> 151\u001b[0m     \u001b[38;5;28mself\u001b[39m\u001b[38;5;241m.\u001b[39m_part\u001b[38;5;241m.\u001b[39msave(path_or_stream)\n",
      "File \u001b[1;32m~\\AppData\\Roaming\\Python\\Python311\\site-packages\\docx\\parts\\document.py:106\u001b[0m, in \u001b[0;36mDocumentPart.save\u001b[1;34m(self, path_or_stream)\u001b[0m\n\u001b[0;32m    103\u001b[0m \u001b[38;5;28;01mdef\u001b[39;00m \u001b[38;5;21msave\u001b[39m(\u001b[38;5;28mself\u001b[39m, path_or_stream):\n\u001b[0;32m    104\u001b[0m \u001b[38;5;250m    \u001b[39m\u001b[38;5;124;03m\"\"\"Save this document to `path_or_stream`, which can be either a path to a\u001b[39;00m\n\u001b[0;32m    105\u001b[0m \u001b[38;5;124;03m    filesystem location (a string) or a file-like object.\"\"\"\u001b[39;00m\n\u001b[1;32m--> 106\u001b[0m     \u001b[38;5;28mself\u001b[39m\u001b[38;5;241m.\u001b[39mpackage\u001b[38;5;241m.\u001b[39msave(path_or_stream)\n",
      "File \u001b[1;32m~\\AppData\\Roaming\\Python\\Python311\\site-packages\\docx\\opc\\package.py:151\u001b[0m, in \u001b[0;36mOpcPackage.save\u001b[1;34m(self, pkg_file)\u001b[0m\n\u001b[0;32m    149\u001b[0m \u001b[38;5;28;01mfor\u001b[39;00m part \u001b[38;5;129;01min\u001b[39;00m \u001b[38;5;28mself\u001b[39m\u001b[38;5;241m.\u001b[39mparts:\n\u001b[0;32m    150\u001b[0m     part\u001b[38;5;241m.\u001b[39mbefore_marshal()\n\u001b[1;32m--> 151\u001b[0m PackageWriter\u001b[38;5;241m.\u001b[39mwrite(pkg_file, \u001b[38;5;28mself\u001b[39m\u001b[38;5;241m.\u001b[39mrels, \u001b[38;5;28mself\u001b[39m\u001b[38;5;241m.\u001b[39mparts)\n",
      "File \u001b[1;32m~\\AppData\\Roaming\\Python\\Python311\\site-packages\\docx\\opc\\pkgwriter.py:27\u001b[0m, in \u001b[0;36mPackageWriter.write\u001b[1;34m(pkg_file, pkg_rels, parts)\u001b[0m\n\u001b[0;32m     23\u001b[0m \u001b[38;5;129m@staticmethod\u001b[39m\n\u001b[0;32m     24\u001b[0m \u001b[38;5;28;01mdef\u001b[39;00m \u001b[38;5;21mwrite\u001b[39m(pkg_file, pkg_rels, parts):\n\u001b[0;32m     25\u001b[0m \u001b[38;5;250m    \u001b[39m\u001b[38;5;124;03m\"\"\"Write a physical package (.pptx file) to `pkg_file` containing `pkg_rels` and\u001b[39;00m\n\u001b[0;32m     26\u001b[0m \u001b[38;5;124;03m    `parts` and a content types stream based on the content types of the parts.\"\"\"\u001b[39;00m\n\u001b[1;32m---> 27\u001b[0m     phys_writer \u001b[38;5;241m=\u001b[39m PhysPkgWriter(pkg_file)\n\u001b[0;32m     28\u001b[0m     PackageWriter\u001b[38;5;241m.\u001b[39m_write_content_types_stream(phys_writer, parts)\n\u001b[0;32m     29\u001b[0m     PackageWriter\u001b[38;5;241m.\u001b[39m_write_pkg_rels(phys_writer, pkg_rels)\n",
      "File \u001b[1;32m~\\AppData\\Roaming\\Python\\Python311\\site-packages\\docx\\opc\\phys_pkg.py:109\u001b[0m, in \u001b[0;36m_ZipPkgWriter.__init__\u001b[1;34m(self, pkg_file)\u001b[0m\n\u001b[0;32m    107\u001b[0m \u001b[38;5;28;01mdef\u001b[39;00m \u001b[38;5;21m__init__\u001b[39m(\u001b[38;5;28mself\u001b[39m, pkg_file):\n\u001b[0;32m    108\u001b[0m     \u001b[38;5;28msuper\u001b[39m(_ZipPkgWriter, \u001b[38;5;28mself\u001b[39m)\u001b[38;5;241m.\u001b[39m\u001b[38;5;21m__init__\u001b[39m()\n\u001b[1;32m--> 109\u001b[0m     \u001b[38;5;28mself\u001b[39m\u001b[38;5;241m.\u001b[39m_zipf \u001b[38;5;241m=\u001b[39m ZipFile(pkg_file, \u001b[38;5;124m\"\u001b[39m\u001b[38;5;124mw\u001b[39m\u001b[38;5;124m\"\u001b[39m, compression\u001b[38;5;241m=\u001b[39mZIP_DEFLATED)\n",
      "File \u001b[1;32mC:\\ProgramData\\anaconda3\\Lib\\zipfile.py:1284\u001b[0m, in \u001b[0;36mZipFile.__init__\u001b[1;34m(self, file, mode, compression, allowZip64, compresslevel, strict_timestamps, metadata_encoding)\u001b[0m\n\u001b[0;32m   1282\u001b[0m \u001b[38;5;28;01mwhile\u001b[39;00m \u001b[38;5;28;01mTrue\u001b[39;00m:\n\u001b[0;32m   1283\u001b[0m     \u001b[38;5;28;01mtry\u001b[39;00m:\n\u001b[1;32m-> 1284\u001b[0m         \u001b[38;5;28mself\u001b[39m\u001b[38;5;241m.\u001b[39mfp \u001b[38;5;241m=\u001b[39m io\u001b[38;5;241m.\u001b[39mopen(file, filemode)\n\u001b[0;32m   1285\u001b[0m     \u001b[38;5;28;01mexcept\u001b[39;00m \u001b[38;5;167;01mOSError\u001b[39;00m:\n\u001b[0;32m   1286\u001b[0m         \u001b[38;5;28;01mif\u001b[39;00m filemode \u001b[38;5;129;01min\u001b[39;00m modeDict:\n",
      "\u001b[1;31mFileNotFoundError\u001b[0m: [Errno 2] No such file or directory: 'C:\\\\Users\\\\Rafael Bruno\\\\Documents\\\\Formação Pedagógica\\\\Resumo das disciplinas\\\\diretorio_word\\\\Tópico em Libras Surdez e Inclusão.docx'"
     ]
    }
   ],
   "source": [
    "diretorio_pdf = \"C:\\\\Users\\\\Rafael Bruno\\\\Documents\\\\Formação Pedagógica\\Resumo das disciplinas\"  # Altere para o seu diretório\n",
    "\n",
    "for arquivo_pdf in os.listdir(diretorio_pdf):\n",
    "    if arquivo_pdf.endswith(\".pdf\"):  # Verifica se é um arquivo PDF\n",
    "        nome_arquivo_sem_extensao, extensao = os.path.splitext(arquivo_pdf)\n",
    "\n",
    "with open(os.path.join(diretorio_pdf, arquivo_pdf), \"rb\") as f:\n",
    "    leitor_pdf = PyPDF2.PdfReader(f)\n",
    "    pagina_1 = leitor_pdf.pages[0]  # Extrai a primeira página (ajuste se necessário)\n",
    "    conteudo_texto = pagina_1.extract_text()\n",
    "\n",
    "documento_word = docx.Document()\n",
    "paragrafos = documento_word.add_paragraph()\n",
    "\n",
    "paragrafos.add_run(conteudo_texto).font.size = 12\n",
    "paragrafos.style = documento_word.styles['Normal']\n",
    "\n",
    "diretorio_word = \"C:\\\\Users\\\\Rafael Bruno\\\\Documents\\\\Formação Pedagógica\\\\Resumo das disciplinas\\\\diretorio_word\"\n",
    "\n",
    "documento_word.save(os.path.join(diretorio_word, nome_arquivo_sem_extensao + \".docx\"))\n"
   ]
  },
  {
   "cell_type": "code",
   "execution_count": null,
   "id": "90dea23a-a5af-42a9-945f-6462b65504ef",
   "metadata": {},
   "outputs": [],
   "source": []
  },
  {
   "cell_type": "code",
   "execution_count": null,
   "id": "ad70d279-e74b-432f-ba78-ca7d54f62402",
   "metadata": {},
   "outputs": [],
   "source": [
    "from pdf2docx import Converter\n",
    "\n",
    "# Lista dos nomes dos arquivos PDF que você deseja converter\n",
    "pdf_files = [\n",
    "    \"arquivo1.pdf\",\n",
    "    \"arquivo2.pdf\",\n",
    "    \"arquivo3.pdf\",\n",
    "    \"arquivo4.pdf\",\n",
    "    \"arquivo5.pdf\",\n",
    "    \"arquivo6.pdf\",\n",
    "    \"arquivo7.pdf\",\n",
    "    \"arquivo8.pdf\",\n",
    "    \"arquivo9.pdf\",\n",
    "    \"arquivo10.pdf\",\n",
    "]\n",
    "\n",
    "# Função para converter PDF para Word\n",
    "def convert_to_word(pdf_file):\n",
    "    # Nome do arquivo de saída (Word)\n",
    "    output_file = pdf_file.replace(\".pdf\", \".docx\")\n",
    "    \n",
    "    # Converter PDF para Word\n",
    "    cv = Converter(pdf_file)\n",
    "    cv.convert(output_file, start=0, end=None)\n",
    "    cv.close()\n",
    "    print(f\"{pdf_file} convertido com sucesso para {output_file}\")\n",
    "\n",
    "# Loop através da lista de arquivos PDF\n",
    "for pdf_file in pdf_files:\n",
    "    convert_to_word(pdf_file)"
   ]
  }
 ],
 "metadata": {
  "kernelspec": {
   "display_name": "Python 3 (ipykernel)",
   "language": "python",
   "name": "python3"
  },
  "language_info": {
   "codemirror_mode": {
    "name": "ipython",
    "version": 3
   },
   "file_extension": ".py",
   "mimetype": "text/x-python",
   "name": "python",
   "nbconvert_exporter": "python",
   "pygments_lexer": "ipython3",
   "version": "3.11.7"
  }
 },
 "nbformat": 4,
 "nbformat_minor": 5
}
