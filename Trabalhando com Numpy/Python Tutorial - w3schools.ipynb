{
 "cells": [
  {
   "cell_type": "code",
   "execution_count": 1,
   "metadata": {},
   "outputs": [
    {
     "name": "stdout",
     "output_type": "stream",
     "text": [
      "Python is fantastic\n"
     ]
    }
   ],
   "source": [
    "\"\"\"The global Keyword\n",
    "Normally, when you create a variable inside a function, that variable is local, and can only be used inside that function.\n",
    "To create a global variable inside a function, you can use the global keyword.\"\"\"\n",
    "\n",
    "def myfunc():\n",
    "  global x\n",
    "  x = \"fantastic\"\n",
    "\n",
    "myfunc()\n",
    "\n",
    "print(\"Python is \" + x)"
   ]
  },
  {
   "cell_type": "code",
   "execution_count": 5,
   "metadata": {},
   "outputs": [
    {
     "name": "stdout",
     "output_type": "stream",
     "text": [
      "<class 'list'>\n",
      "<class 'tuple'>\n",
      "<class 'dict'>\n",
      "<class 'set'>\n",
      "<class 'frozenset'>\n"
     ]
    },
    {
     "data": {
      "text/plain": [
       "'o tipo set é uma coleção de elementos não ordenada e sem duplicatas. Ele se assemelha ao conceito matemático de conjuntos, onde cada elemento é único, e sua presença ou ausência no conjunto é o que importa.\\n\\nNão permite duplicatas: Cada elemento só aparece uma vez. Se você tentar adicionar o mesmo elemento mais de uma vez, ele será armazenado apenas uma vez no conjunto.\\nNão ordenado: Diferente de listas e tuplas, os sets não mantêm a ordem de inserção dos elementos.\\nMutável: Um set é mutável; você pode adicionar ou remover elementos após sua criação. Há também o frozenset, que é um set imutável.\\nTipos Aceitos: Os elementos de um set devem ser de tipos que sejam \"hashable\" (ou seja, que possuem um valor hash único e imutável). Isso significa que você pode adicionar, por exemplo, números e strings, mas não listas ou outros sets.\\n\\nPotenciais Usos de sets\\nRemoção de Duplicatas: Converter uma lista para um set é uma maneira rápida de remover duplicatas.\\n\\npython\\nCopiar código\\nlista = [1, 2, 2, 3, 4, 4]\\nlista_sem_duplicatas = list(set(lista))\\n\\nOperações de Conjunto: sets são ideais para realizar operações de conjuntos (união, interseção, diferença), úteis em várias áreas, como ciência de dados, controle de permissões de acesso, análise de redes, etc.\\n\\nTestes de Associação Rápidos: Como sets usam hash para armazenar itens, verificar se um elemento está em um set é muito rápido, com complexidade média de tempo constante \\nO(1).\\n\\nHá duas maneiras principais de criar um set:\\n   meu_set = {1, 2, 3, 4}\\n   meu_set = set([1, 2, 3, 4])\\n '"
      ]
     },
     "execution_count": 5,
     "metadata": {},
     "output_type": "execute_result"
    }
   ],
   "source": [
    "\"\"\"Python has the following data types built-in by default, in these categories:\n",
    "\n",
    "Text Type:\tstr\n",
    "Numeric Types:\tint, float, complex\n",
    "Sequence Types:\tlist, tuple, range\n",
    "Mapping Type:\tdict\n",
    "Set Types:\tset, frozenset\n",
    "Boolean Type:\tbool\n",
    "Binary Types:\tbytes, bytearray, memoryview\n",
    "None Type:\tNoneType\"\"\"\n",
    "\n",
    "\"\"\"Setting the Specific Data Type\n",
    "If you want to specify the data type, you can use the following constructor functions:\n",
    "Os mais importantes:\"\"\"\n",
    "\n",
    "x = list((\"apple\", \"banana\", \"cherry\")) #Perceba que são parênteses pois list é um método construtor... uma função\n",
    "print(type(x))\n",
    "\n",
    "x = tuple((\"apple\", \"banana\", \"cherry\"))\n",
    "print(type(x))\n",
    "\n",
    "x = dict(name=\"John\", age=36)\n",
    "print(type(x))\n",
    "\n",
    "x = set((\"apple\", \"banana\", \"cherry\"))\n",
    "print(type(x))\n",
    "\n",
    "x = frozenset((\"apple\", \"banana\", \"cherry\"))\n",
    "print(type(x))\n",
    "\n",
    "\"\"\"o tipo set é uma coleção de elementos não ordenada e sem duplicatas. Ele se assemelha ao conceito matemático de conjuntos, onde cada elemento é único, e sua presença ou ausência no conjunto é o que importa.\n",
    "\n",
    "Não permite duplicatas: Cada elemento só aparece uma vez. Se você tentar adicionar o mesmo elemento mais de uma vez, ele será armazenado apenas uma vez no conjunto.\n",
    "Não ordenado: Diferente de listas e tuplas, os sets não mantêm a ordem de inserção dos elementos.\n",
    "Mutável: Um set é mutável; você pode adicionar ou remover elementos após sua criação. Há também o frozenset, que é um set imutável.\n",
    "Tipos Aceitos: Os elementos de um set devem ser de tipos que sejam \"hashable\" (ou seja, que possuem um valor hash único e imutável). Isso significa que você pode adicionar, por exemplo, números e strings, mas não listas ou outros sets.\n",
    "\n",
    "Potenciais Usos de sets\n",
    "Remoção de Duplicatas: Converter uma lista para um set é uma maneira rápida de remover duplicatas.\n",
    "\n",
    "python\n",
    "Copiar código\n",
    "lista = [1, 2, 2, 3, 4, 4]\n",
    "lista_sem_duplicatas = list(set(lista))\n",
    "\n",
    "Operações de Conjunto: sets são ideais para realizar operações de conjuntos (união, interseção, diferença), úteis em várias áreas, como ciência de dados, controle de permissões de acesso, análise de redes, etc.\n",
    "\n",
    "Testes de Associação Rápidos: Como sets usam hash para armazenar itens, verificar se um elemento está em um set é muito rápido, com complexidade média de tempo constante \n",
    "O(1).\n",
    "\n",
    "Há duas maneiras principais de criar um set:\n",
    "   meu_set = {1, 2, 3, 4}\n",
    "   meu_set = set([1, 2, 3, 4])\n",
    " \"\"\""
   ]
  },
  {
   "cell_type": "code",
   "execution_count": 6,
   "metadata": {},
   "outputs": [
    {
     "name": "stdout",
     "output_type": "stream",
     "text": [
      "['apple', 'banana', 'mango']\n",
      "['apple', 'banana', 'mango']\n"
     ]
    }
   ],
   "source": [
    "\"\"\"List Comprehension\n",
    "List comprehension offers a shorter syntax when you want to create a new list based on the values of an existing list.\"\"\"\n",
    "\n",
    "fruits = [\"apple\", \"banana\", \"cherry\", \"kiwi\", \"mango\"]\n",
    "newlist = []\n",
    "\n",
    "for x in fruits:\n",
    "  if \"a\" in x:\n",
    "    newlist.append(x)\n",
    "\n",
    "print(newlist)\n",
    "\n",
    "#With list comprehension you can do all that with only one line of code:\n",
    "newlist = [x for x in fruits if \"a\" in x]\n",
    "print(newlist)\n"
   ]
  },
  {
   "cell_type": "markdown",
   "metadata": {},
   "source": [
    "Python Collections (Arrays)\n",
    "There are four collection data types in the Python programming language:\n",
    "\n",
    "List is a collection which is ordered and changeable. Allows duplicate members.\n",
    "Tuple is a collection which is ordered and unchangeable. Allows duplicate members.\n",
    "Set is a collection which is unordered, unchangeable*, and unindexed. No duplicate members.\n",
    "Dictionary is a collection which is ordered** and changeable. No duplicate members.\n",
    "*Set items are unchangeable, but you can remove and/or add items whenever you like.\n",
    "\n",
    "**As of Python version 3.7, dictionaries are ordered. In Python 3.6 and earlier, dictionaries are unordered."
   ]
  },
  {
   "cell_type": "code",
   "execution_count": 10,
   "metadata": {},
   "outputs": [
    {
     "name": "stdout",
     "output_type": "stream",
     "text": [
      "apple\n",
      "banana\n",
      "cherry\n",
      "strawberry\n",
      "raspberry\n"
     ]
    }
   ],
   "source": [
    "\"\"\"Unpacking a Tuple\"\"\"\n",
    "\n",
    "#Assign the rest of the values as a list called \"red\":\n",
    "fruits = (\"apple\", \"banana\", \"cherry\", \"strawberry\", \"raspberry\")\n",
    "\n",
    "(green, yellow, *red) = fruits\n",
    "\n",
    "print(green)\n",
    "print(yellow)\n",
    "print(*red, sep='\\n') #Não sabia dessa"
   ]
  },
  {
   "cell_type": "code",
   "execution_count": 12,
   "metadata": {},
   "outputs": [
    {
     "name": "stdout",
     "output_type": "stream",
     "text": [
      "1 2 4 5 6 "
     ]
    }
   ],
   "source": [
    "\"\"\"The continue Statement\n",
    "With the continue statement we can stop the current iteration, and continue with the next:\"\"\"\n",
    "\n",
    "i = 0\n",
    "while i < 6:\n",
    "  i += 1\n",
    "  if i == 3:\n",
    "    continue\n",
    "  print(i, end=' ')"
   ]
  },
  {
   "cell_type": "markdown",
   "metadata": {},
   "source": [
    "### Python Functions\n",
    "\n",
    "Parameters or Arguments?\n",
    "The terms parameter and argument can be used for the same thing: information that are passed into a function.\n",
    "\n",
    "From a function's perspective:\n",
    "\n",
    "A parameter is the variable listed inside the parentheses in the function definition.\n",
    "\n",
    "An argument is the value that is sent to the function when it is called.\n",
    "\n",
    "### Default Parameter Value\n",
    "\n",
    "If we call the function without argument, it uses the default value\n",
    "\n",
    "### Arbitrary Arguments, *args\n",
    "\n",
    "If you do not know how many arguments that will be passed into your function, add a * before the parameter name in the function definition.\n",
    "\n",
    "This way the function will receive a tuple of arguments, and can access the items accordingly.\n",
    "\n",
    "### Keyword Arguments\n",
    "\n",
    "You can also send arguments with the key = value syntax.\n",
    "\n",
    "This way the order of the arguments does not matter.\n",
    "\n",
    "### Arbitrary Keyword Arguments, **kwargs\n",
    "\n",
    "If you do not know how many keyword arguments that will be passed into your function, add two asterisk: ** before the parameter name in the function definition.\n",
    "\n",
    "This way the function will receive a dictionary of arguments, and can access the items accordingly.\n",
    "\n",
    "### Positional-Only Arguments\n",
    "\n",
    "You can specify that a function can have ONLY positional arguments, or ONLY keyword arguments.\n",
    "\n",
    "To specify that a function can have only positional arguments, add , / after the arguments.\n",
    "\n",
    "Without the , / you are actually allowed to use keyword arguments even if the function expects positional arguments.\n",
    "\n",
    "But when adding the , / you will get an error if you try to send a keyword argument.\n",
    "\n",
    "Keyword-Only Arguments\n",
    "To specify that a function can have only keyword arguments, add *, before the arguments.\n",
    "\n",
    "You can combine the two argument types in the same function.\n",
    "\n",
    "Any argument before the / , are positional-only, and any argument after the *, are keyword-only.\n",
    "\n",
    "### Recursion\n",
    "\n",
    "Python also accepts function recursion, which means a defined function can call itself.\n",
    "\n",
    "\n",
    "\n"
   ]
  },
  {
   "cell_type": "code",
   "execution_count": 14,
   "metadata": {},
   "outputs": [
    {
     "name": "stdout",
     "output_type": "stream",
     "text": [
      "The youngest child is Linus\n",
      "The youngest child is Linus\n",
      "His last name is Refsnes\n",
      "I am from India\n",
      "I am from Norway\n",
      "I am from Brazil\n",
      "3\n",
      "3\n",
      "26\n",
      "\n",
      "\n",
      "Recursion Example Results\n",
      "Valor recursivo 1\n",
      "Valor recursivo 3\n",
      "Valor recursivo 6\n"
     ]
    },
    {
     "data": {
      "text/plain": [
       "6"
      ]
     },
     "execution_count": 14,
     "metadata": {},
     "output_type": "execute_result"
    }
   ],
   "source": [
    "def my_function(*kids):\n",
    "  print(\"The youngest child is \" + kids[2])\n",
    "\n",
    "my_function(\"Emil\", \"Tobias\", \"Linus\")\n",
    "\n",
    "\n",
    "def my_function(child3, child2, child1):\n",
    "  print(\"The youngest child is \" + child3)\n",
    "\n",
    "my_function(child1 = \"Emil\", child2 = \"Tobias\", child3 = \"Linus\")\n",
    "\n",
    "\n",
    "def my_function(**kid):\n",
    "  print(\"His last name is \" + kid[\"lname\"])\n",
    "\n",
    "my_function(fname = \"Tobias\", lname = \"Refsnes\")\n",
    "\n",
    "\n",
    "def my_function(country = \"Norway\"):\n",
    "  print(\"I am from \" + country)\n",
    "\n",
    "my_function(\"India\")\n",
    "my_function()\n",
    "my_function(\"Brazil\")\n",
    "\n",
    "\n",
    "def my_function(x, /):\n",
    "  print(x)\n",
    "\n",
    "my_function(3)\n",
    "\n",
    "\n",
    "def my_function(*, x):\n",
    "  print(x)\n",
    "\n",
    "my_function(x = 3)\n",
    "\n",
    "\n",
    "def my_function(a, b, /, *, c, d):\n",
    "  print(a + b + c + d)\n",
    "\n",
    "my_function(5, 6, c = 7, d = 8)\n",
    "\n",
    "\n",
    "def tri_recursion(k):\n",
    "  if(k > 0):\n",
    "    result = k + tri_recursion(k - 1)\n",
    "    print(\"Valor recursivo\", result)\n",
    "  else:\n",
    "    result = 0\n",
    "  return result\n",
    "\n",
    "print(\"\\n\\nRecursion Example Results\")\n",
    "tri_recursion(3)"
   ]
  },
  {
   "cell_type": "code",
   "execution_count": null,
   "metadata": {},
   "outputs": [],
   "source": [
    "\"\"\"A lambda function is a small anonymous function.\n",
    "\n",
    "A lambda function can take any number of arguments, but can only have one expression.\n",
    "\n",
    "Syntax\n",
    "lambda arguments : expression\n",
    "\"\"\"\n",
    "\n",
    "x = lambda a, b : a * b\n",
    "print(x(5, 6))"
   ]
  },
  {
   "cell_type": "code",
   "execution_count": 18,
   "metadata": {},
   "outputs": [
    {
     "name": "stdout",
     "output_type": "stream",
     "text": [
      "5\n",
      "--------------------\n",
      "John\n",
      "36\n",
      "--------------------\n",
      "<__main__.Person object at 0x000002AA5B087D90>\n",
      "--------------------\n",
      "John(36)\n",
      "--------------------\n",
      "Hello my name is John\n"
     ]
    }
   ],
   "source": [
    "\"\"\"Python Classes and Objects\"\"\"\n",
    "\n",
    "#A Class is like an object constructor, or a \"blueprint\" for creating objects.\n",
    "\n",
    "\"\"\"Create a Class\"\"\"\n",
    "#To create a class, use the keyword class:\n",
    "\n",
    "class MyClass:\n",
    "  x = 5\n",
    "\n",
    "#Create an object named p1, and print the value of x:\n",
    "p1 = MyClass()\n",
    "print(p1.x)\n",
    "\n",
    "print('-'*20)\n",
    "\n",
    "\"\"\"The __init__() Function\n",
    "The examples above are classes and objects in their simplest form, and are not really useful in real life applications.\n",
    "\n",
    "To understand the meaning of classes we have to understand the built-in __init__() function.\n",
    "\n",
    "All classes have a function called __init__(), which is always executed when the class is being initiated.\n",
    "\n",
    "Use the __init__() function to assign values to object properties, or other operations that are necessary to do when the object is being created:\"\"\"\n",
    "\n",
    "class Person:\n",
    "  def __init__(self, name, age):\n",
    "    self.name = name\n",
    "    self.age = age\n",
    "\n",
    "p1 = Person(\"John\", 36)\n",
    "\n",
    "print(p1.name)\n",
    "print(p1.age)\n",
    "\n",
    "print('-'*20)\n",
    "\n",
    "\"\"\"The __str__() Function\n",
    "The __str__() function controls what should be returned when the class object is represented as a string.\n",
    "\n",
    "If the __str__() function is not set, the string representation of the object is returned:\"\"\"\n",
    "\n",
    "#The string representation of an object WITHOUT the __str__() function:\n",
    "print(p1)\n",
    "\n",
    "print('-'*20)\n",
    "\n",
    "#The string representation of an object WITH the __str__() function:\n",
    "\n",
    "class Person:\n",
    "  def __init__(self, name, age):\n",
    "    self.name = name\n",
    "    self.age = age\n",
    "\n",
    "  def __str__(self):\n",
    "    return f\"{self.name}({self.age})\"\n",
    "\n",
    "p1 = Person(\"John\", 36)\n",
    "\n",
    "print(p1)\n",
    "\n",
    "print('-'*20)\n",
    "\n",
    "\"\"\"Object Methods\n",
    "Objects can also contain methods. Methods in objects are functions that belong to the object.\"\"\"\n",
    "\n",
    "class Person:\n",
    "  def __init__(self, name, age):\n",
    "    self.name = name\n",
    "    self.age = age\n",
    "\n",
    "  def myfunc(self):\n",
    "    print(\"Hello my name is \" + self.name)\n",
    "\n",
    "p1 = Person(\"John\", 36)\n",
    "p1.myfunc()\n",
    "\n",
    "\n",
    "\n"
   ]
  },
  {
   "cell_type": "code",
   "execution_count": 22,
   "metadata": {},
   "outputs": [
    {
     "name": "stdout",
     "output_type": "stream",
     "text": [
      "Hello my name is John\n",
      "--------------------\n",
      "40\n"
     ]
    }
   ],
   "source": [
    "\"\"\"The self Parameter\n",
    "The self parameter is a reference to the current instance of the class, and is used to access variables that belong to the class.\n",
    "\n",
    "It does not have to be named self, you can call it whatever you like, but it has to be the first parameter of any function in the class:\"\"\"\n",
    "\n",
    "#Use the words mysillyobject and abc instead of self:\n",
    "\n",
    "class Person:\n",
    "  def __init__(mysillyobject, name, age):\n",
    "    mysillyobject.name = name\n",
    "    mysillyobject.age = age\n",
    "\n",
    "  def myfunc(abc):\n",
    "    print(\"Hello my name is \" + abc.name)\n",
    "\n",
    "p1 = Person(\"John\", 36)\n",
    "p1.myfunc()\n",
    "\n",
    "print('-'*20)\n",
    "\n",
    "#You can modify properties on objects like this:\n",
    "p1 = Person(\"John\", 36)\n",
    "\n",
    "p1.age = 40\n",
    "\n",
    "print(p1.age)\n",
    "\n",
    "\n",
    "#You can delete properties on objects and objects by using the del keyword:\n",
    "del p1.age\n",
    "del p1\n",
    "\n"
   ]
  },
  {
   "cell_type": "code",
   "execution_count": 1,
   "metadata": {},
   "outputs": [
    {
     "name": "stdout",
     "output_type": "stream",
     "text": [
      "Mike Olsen\n"
     ]
    }
   ],
   "source": [
    "\"\"\"Python Inheritance\n",
    "Inheritance allows us to define a class that inherits all the methods and properties from another class.\"\"\"\n",
    "\n",
    "#Create a Parent Class\n",
    "class Person:\n",
    "  def __init__(self, fname, lname):\n",
    "    self.firstname = fname\n",
    "    self.lastname = lname\n",
    "\n",
    "  def printname(self):\n",
    "    print(self.firstname, self.lastname)\n",
    "\n",
    "\n",
    "#Create a Child Class\n",
    "class Student(Person):\n",
    "  pass\n",
    "\n",
    "x = Student(\"Mike\", \"Olsen\")\n",
    "x.printname()\n",
    "\n",
    "#Add the __init__() function to the Student class:\n",
    "class Student(Person):\n",
    "  def __init__(self, fname, lname):\n",
    "    #add properties etc.\n",
    "    pass\n",
    "\n",
    "#If you add a method in the child class with the same name as a function in the parent class, the inheritance of the parent method will be overridden.\n",
    "\n",
    "#To keep the inheritance of the parent's __init__() function, add a call to the parent's __init__() function:\n",
    "\n",
    "class Student(Person):\n",
    "  def __init__(self, fname, lname):\n",
    "    Person.__init__(self, fname, lname)\n",
    "\n",
    "\"\"\"MAAAASSSS\"\"\"\n",
    "\n",
    "#Python also has a super() function that will make the child class inherit all the methods and properties from its parent. By using the super() function, you do not have to use the name of the parent element, it will automatically inherit the methods and properties from its parent.\n",
    "\n",
    "class Student(Person):\n",
    "  def __init__(self, fname, lname):\n",
    "    super().__init__(fname, lname)\n",
    "\n",
    "\n",
    "#Add a method called welcome to the Student class:\n",
    "class Student(Person):\n",
    "  def __init__(self, fname, lname, year):\n",
    "    super().__init__(fname, lname)\n",
    "    self.graduationyear = year\n",
    "\n",
    "  def welcome(self):\n",
    "    print(\"Welcome\", self.firstname, self.lastname, \"to the class of\", self.graduationyear)\n",
    "\n",
    "\n"
   ]
  }
 ],
 "metadata": {
  "kernelspec": {
   "display_name": "base",
   "language": "python",
   "name": "python3"
  },
  "language_info": {
   "codemirror_mode": {
    "name": "ipython",
    "version": 3
   },
   "file_extension": ".py",
   "mimetype": "text/x-python",
   "name": "python",
   "nbconvert_exporter": "python",
   "pygments_lexer": "ipython3",
   "version": "3.11.7"
  }
 },
 "nbformat": 4,
 "nbformat_minor": 2
}
