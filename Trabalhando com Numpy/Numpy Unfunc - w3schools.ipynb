{
 "cells": [
  {
   "cell_type": "code",
   "execution_count": 3,
   "metadata": {},
   "outputs": [],
   "source": [
    "import numpy as np"
   ]
  },
  {
   "cell_type": "code",
   "execution_count": 6,
   "metadata": {},
   "outputs": [
    {
     "name": "stdout",
     "output_type": "stream",
     "text": [
      "[6 8 10 12]\n",
      "<class 'numpy.ufunc'>\n",
      "<class 'numpy._ArrayFunctionDispatcher'>\n"
     ]
    }
   ],
   "source": [
    "#Create your own ufunc (universal function) for addition:\n",
    "\n",
    "def myadd(x, y):\n",
    "  return x+y\n",
    "\n",
    "myadd = np.frompyfunc(myadd, 2, 1)\n",
    "\n",
    "print(myadd([1, 2, 3, 4], [5, 6, 7, 8]))\n",
    "\n",
    "#Check if a function is a ufunc:\n",
    "print(type(np.add))\n",
    "\n",
    "print(type(np.concatenate))\n"
   ]
  },
  {
   "cell_type": "code",
   "execution_count": 9,
   "metadata": {},
   "outputs": [
    {
     "name": "stdout",
     "output_type": "stream",
     "text": [
      "[30 32 34 36 38 40]\n",
      "[-10 -10 -10 -10 -10 -10]\n",
      "[200 231 264 299 336 375]\n",
      "[0.5        0.52380952 0.54545455 0.56521739 0.58333333 0.6       ]\n",
      "[ 1661992960   602408795           0  1487897765  1090519040 -1144744561]\n",
      "[10 11 12 13 14 15]\n",
      "[10 11 12 13 14 15]\n",
      "(array([0, 0, 0, 0, 0, 0]), array([10, 11, 12, 13, 14, 15]))\n",
      "[1 2 1 2 3 4]\n"
     ]
    }
   ],
   "source": [
    "\"\"\"Simple Arithmetic\n",
    "You could use arithmetic operators + - * / directly between NumPy arrays, but this section discusses an extension of the same where we have functions that can take any array-like objects e.g. lists, tuples etc. and perform arithmetic conditionally.\n",
    "\n",
    "Arithmetic Conditionally: means that we can define conditions where the arithmetic operation should happen.\n",
    "\n",
    "All of the discussed arithmetic functions take a where parameter in which we can specify that condition.\"\"\"\n",
    "\n",
    "\n",
    "#The add() function sums the content of two arrays, and return the results in a new array.\n",
    "\n",
    "arr1 = np.array([10, 11, 12, 13, 14, 15])\n",
    "arr2 = np.array([20, 21, 22, 23, 24, 25])\n",
    "\n",
    "newarr = np.add(arr1, arr2)\n",
    "print(newarr)\n",
    "\n",
    "#The subtract() function subtracts the values from one array with the values from another array, and return the results in a new array.\n",
    "\n",
    "newarr = np.subtract(arr1, arr2)\n",
    "print(newarr)\n",
    "\n",
    "\n",
    "#The multiply() function multiplies the values from one array with the values from another array, and return the results in a new array.\n",
    "\n",
    "newarr = np.multiply(arr1, arr2)\n",
    "print(newarr)\n",
    "\n",
    "#The divide() function divides the values from one array with the values from another array, and return the results in a new array.\n",
    "\n",
    "newarr = np.divide(arr1, arr2)\n",
    "print(newarr)\n",
    "\n",
    "#The power() function rises the values from the first array to the power of the values of the second array, and return the results in a new array.\n",
    "\n",
    "newarr = np.power(arr1, arr2)\n",
    "print(newarr)\n",
    "\n",
    "#Both the mod() and the remainder() functions return the remainder of the values in the first array corresponding to the values in the second array, and return the results in a new array.\n",
    "\n",
    "newarr = np.mod(arr1, arr2)\n",
    "print(newarr)\n",
    "newarr = np.remainder(arr1, arr2)\n",
    "print(newarr)\n",
    "\n",
    "#The divmod() function return both the quotient and the mod. The return value is two arrays, the first array contains the quotient and second array contains the mod.\n",
    "\n",
    "newarr = np.divmod(arr1, arr2)\n",
    "print(newarr)\n",
    "\n",
    "#Both the absolute() and the abs() functions do the same absolute operation element-wise but we should use absolute() to avoid confusion with python's inbuilt math.abs()\n",
    "\n",
    "arr = np.array([-1, -2, 1, 2, 3, -4])\n",
    "newarr = np.absolute(arr)\n",
    "print(newarr)\n",
    "\n"
   ]
  },
  {
   "cell_type": "code",
   "execution_count": 24,
   "metadata": {},
   "outputs": [
    {
     "name": "stdout",
     "output_type": "stream",
     "text": [
      "[-3.  3.]\n",
      "[-3.  3.]\n",
      "\n",
      " --------------------\n",
      "3.17\n",
      "\n",
      " --------------------\n",
      "[-4.  3.]\n",
      "\n",
      " --------------------\n",
      "[-3.  4.]\n",
      "\n",
      " --------------------\n",
      "[0.         1.         1.5849625  2.         2.32192809 2.5849625\n",
      " 2.80735492 3.         3.169925  ]\n",
      "\n",
      " --------------------\n",
      "[0.         0.30103    0.47712125 0.60205999 0.69897    0.77815125\n",
      " 0.84509804 0.90308999 0.95424251]\n",
      "\n",
      " --------------------\n",
      "[0.         0.69314718 1.09861229 1.38629436 1.60943791 1.79175947\n",
      " 1.94591015 2.07944154 2.19722458]\n",
      "\n",
      " --------------------\n",
      "1.7005483074552052\n",
      "\n",
      " --------------------\n",
      "18\n",
      "\n",
      " --------------------\n"
     ]
    }
   ],
   "source": [
    "from math import log\n",
    "\"\"\"Rounding Decimals\n",
    "There are primarily five ways of rounding off decimals in NumPy:\n",
    "\n",
    "truncation\n",
    "fix\n",
    "rounding\n",
    "floor\n",
    "ceil\"\"\"\n",
    "\n",
    "#Truncation: Remove the decimals, and return the float number closest to zero. Use the trunc() and fix() functions.\n",
    "arr = np.trunc([-3.1666, 3.6667])\n",
    "print(arr)\n",
    "arr = np.fix([-3.1666, 3.6667])\n",
    "print(arr)\n",
    "print('\\n','-'*20)\n",
    "\n",
    "\n",
    "#The around() function increments preceding digit or decimal by 1 if >=5 else do nothing. E.g. round off to 1 decimal point, 3.16666 is 3.2\n",
    "arr = np.around(3.1666, 2)\n",
    "print(arr)\n",
    "print('\\n','-'*20)\n",
    "\n",
    "\n",
    "#The floor() function rounds off decimal to nearest lower integer. E.g. floor of 3.166 is 3.\n",
    "arr = np.floor([-3.1666, 3.6667])\n",
    "print(arr)\n",
    "print('\\n','-'*20)\n",
    "\n",
    "\n",
    "#The ceil() function rounds off decimal to nearest upper integer.E.g. ceil of 3.166 is 4.\n",
    "arr = np.ceil([-3.1666, 3.6667])\n",
    "print(arr)\n",
    "print('\\n','-'*20)\n",
    "\n",
    "\n",
    "#Use the log2() function to perform log at the base 2.\n",
    "arr = np.arange(1, 10)\n",
    "print(np.log2(arr))\n",
    "print('\\n','-'*20)\n",
    "\n",
    "\n",
    "#Use the log10() function to perform log at the base 10.\n",
    "print(np.log10(arr))\n",
    "print('\\n','-'*20)\n",
    "\n",
    "\n",
    "#Use the log() function to perform log at the base e.\n",
    "print(np.log(arr))\n",
    "print('\\n','-'*20)\n",
    "\n",
    "\n",
    "#Log at Any Base\n",
    "nplog = np.frompyfunc(log, 2, 1)\n",
    "print(nplog(100, 15))\n",
    "print('\\n','-'*20)\n",
    "\n",
    "\n",
    "#Find the LCM (Lowest Common Multiple) of all values of an array where the array contains all integers from 1 to 10:\n",
    "arr = np.array([3, 6, 9])\n",
    "x = np.lcm.reduce(arr)\n",
    "print(x)\n",
    "print('\\n','-'*20)\n",
    "#The reduce() method will use the ufunc, in this case the lcm() function, on each element, and reduce the array by one dimension.\n",
    "\n",
    "\n",
    "#Find the GCD (Greatest Common Denominator) for all of the numbers in the following array:\n",
    "arr = np.array([20, 8, 32, 36, 16])\n",
    "x = np.gcd.reduce(arr)\n",
    "print(x)\n",
    "print('\\n','-'*20)\n"
   ]
  },
  {
   "cell_type": "code",
   "execution_count": 16,
   "metadata": {},
   "outputs": [
    {
     "name": "stdout",
     "output_type": "stream",
     "text": [
      "[2 4 6]\n",
      "12\n",
      "[2 4 6]\n",
      "[6 6]\n",
      "[1 3 6]\n"
     ]
    }
   ],
   "source": [
    "#Summations\n",
    "\n",
    "arr1 = np.array([1, 2, 3])\n",
    "arr2 = np.array([1, 2, 3])\n",
    "\n",
    "newarr = np.add(arr1, arr2)\n",
    "print(newarr)\n",
    "\n",
    "#Sum the values in arr1 and the values in arr2:\n",
    "newarr = np.sum([arr1, arr2])\n",
    "print(newarr)\n",
    "\n",
    "newarr = np.sum([arr1, arr2], axis=0)\n",
    "print(newarr)\n",
    "\n",
    "newarr = np.sum([arr1, arr2], axis=1)\n",
    "print(newarr)\n",
    "\n",
    "\"\"\"Cummulative Sum\n",
    "Cummulative sum means partially adding the elements in array.\n",
    "E.g. The partial sum of [1, 2, 3, 4] would be [1, 1+2, 1+2+3, 1+2+3+4] = [1, 3, 6, 10].\n",
    "Perfom partial sum with the cumsum() function.\"\"\"\n",
    "newarr = np.cumsum(arr1)\n",
    "print(newarr)\n"
   ]
  },
  {
   "cell_type": "code",
   "execution_count": 19,
   "metadata": {},
   "outputs": [
    {
     "name": "stdout",
     "output_type": "stream",
     "text": [
      "24\n",
      "40320\n",
      "[  24 1680]\n",
      "[   5   30  210 1680]\n"
     ]
    }
   ],
   "source": [
    "\"\"\"Products\"\"\"\n",
    "\n",
    "arr1 = np.array([1, 2, 3, 4])\n",
    "arr2 = np.array([5, 6, 7, 8])\n",
    "x = np.prod(arr1)\n",
    "print(x)\n",
    "x = np.prod([arr1, arr2])\n",
    "print(x)\n",
    "\n",
    "#If you specify axis=1, NumPy will return the product of each array.\n",
    "newarr = np.prod([arr1, arr2], axis=1)\n",
    "print(newarr)\n",
    "\n",
    "#Perfom partial sum with the cumprod() function.\n",
    "newarr = np.cumprod(arr2)\n",
    "print(newarr)\n",
    "\n"
   ]
  },
  {
   "cell_type": "code",
   "execution_count": 23,
   "metadata": {},
   "outputs": [
    {
     "name": "stdout",
     "output_type": "stream",
     "text": [
      "[  5  10 -20]\n",
      "[-35]\n"
     ]
    }
   ],
   "source": [
    "\"\"\"A discrete difference means subtracting two successive elements.\n",
    "E.g. for [1, 2, 3, 4], the discrete difference would be [2-1, 3-2, 4-3] = [1, 1, 1]\n",
    "To find the discrete difference, use the diff() function.\"\"\"\n",
    "\n",
    "arr = np.array([10, 15, 25, 5])\n",
    "newarr = np.diff(arr)\n",
    "print(newarr)\n",
    "\n",
    "#We can perform this operation repeatedly by giving parameter n. E.g. for [1, 2, 3, 4], the discrete difference with n = 2 would be [2-1, 3-2, 4-3] = [1, 1, 1] , then, since n=2, we will do it once more, with the new result: [1-1, 1-1] = [0, 0]\n",
    "newarr = np.diff(arr, n=3)\n",
    "print(newarr)"
   ]
  },
  {
   "cell_type": "code",
   "execution_count": 26,
   "metadata": {},
   "outputs": [
    {
     "name": "stdout",
     "output_type": "stream",
     "text": [
      "1.0\n",
      "[1.         0.8660254  0.70710678 0.58778525]\n",
      "[1.57079633 3.14159265 4.71238898 6.28318531]\n",
      "[ 90. 180. 270. 360.]\n"
     ]
    }
   ],
   "source": [
    "\"\"\"Trigonometric Functions\n",
    "NumPy provides the ufuncs sin(), cos() and tan() that take values in radians and produce the corresponding sin, cos and tan values.\"\"\"\n",
    "\n",
    "#Find sine value of PI/2:\n",
    "x = np.sin(np.pi/2)\n",
    "print(x)\n",
    "\n",
    "arr = np.array([np.pi/2, np.pi/3, np.pi/4, np.pi/5])\n",
    "print(np.sin(arr))\n",
    "\n",
    "#Convert Degrees Into Radians\n",
    "#By default all of the trigonometric functions take radians as parameters\n",
    "arr = np.array([90, 180, 270, 360])\n",
    "x = np.deg2rad(arr)\n",
    "print(x)\n",
    "\n",
    "#Radians to Degrees\n",
    "y = np.rad2deg(x)\n",
    "print(y)\n",
    "\n",
    "\n",
    "#NumPy provides ufuncs arcsin(), arccos() and arctan() that produce radian values for corresponding sin, cos and tan values given (o mesmo para os hiperbólicos).\n",
    "x = np.arcsin(1.0)\n",
    "print(x)\n",
    "arr = np.array([1, -1, 0.1])\n",
    "x = np.arcsin(arr)\n",
    "print(x)\n",
    "\n",
    "\n",
    "#NumPy provides the hypot() function that takes the base and perpendicular values and produces hypotenues based on pythagoras theorem.\n",
    "base = 3\n",
    "perp = 4\n",
    "x = np.hypot(base, perp)\n",
    "print(x)\n",
    "\n",
    "\n"
   ]
  },
  {
   "cell_type": "code",
   "execution_count": 27,
   "metadata": {},
   "outputs": [
    {
     "name": "stdout",
     "output_type": "stream",
     "text": [
      "[1 2 3 4 5 6 7]\n",
      "[1 2 3 4 5 6]\n",
      "[3 4]\n",
      "[1 2]\n",
      "[1 2 5 6]\n"
     ]
    }
   ],
   "source": [
    "\"\"\"NumPy Set Operations\"\"\"\n",
    "\n",
    "#We can use NumPy's unique() method to find unique elements from any array. E.g. create a set array, but remember that the set arrays should only be 1-D arrays.\n",
    "\n",
    "arr = np.array([1, 1, 1, 2, 3, 4, 5, 5, 6, 7])\n",
    "x = np.unique(arr)\n",
    "print(x)\n",
    "\n",
    "\n",
    "#To find the unique values of two arrays, use the union1d() method.\n",
    "arr1 = np.array([1, 2, 3, 4])\n",
    "arr2 = np.array([3, 4, 5, 6])\n",
    "newarr = np.union1d(arr1, arr2)\n",
    "print(newarr)\n",
    "\n",
    "\n",
    "#To find only the values that are present in both arrays, use the intersect1d() method.\n",
    "newarr = np.intersect1d(arr1, arr2, assume_unique=True)\n",
    "print(newarr)\n",
    "\n",
    "#Note: the intersect1d(),setdiff1d() and setxor1d() methods take an optional argument assume_unique, which if set to True can speed up computation. It should always be set to True when dealing with sets.\n",
    "\n",
    "\n",
    "#To find only the values in the first set that is NOT present in the seconds set, use the setdiff1d() method.\n",
    "newarr = np.setdiff1d(arr1, arr2, assume_unique=True)\n",
    "print(newarr)\n",
    "\n",
    "\n",
    "#To find only the values that are NOT present in BOTH sets, use the setxor1d() method.\n",
    "newarr = np.setxor1d(arr1, arr2, assume_unique=True)\n",
    "print(newarr)"
   ]
  }
 ],
 "metadata": {
  "kernelspec": {
   "display_name": "base",
   "language": "python",
   "name": "python3"
  },
  "language_info": {
   "codemirror_mode": {
    "name": "ipython",
    "version": 3
   },
   "file_extension": ".py",
   "mimetype": "text/x-python",
   "name": "python",
   "nbconvert_exporter": "python",
   "pygments_lexer": "ipython3",
   "version": "3.11.7"
  }
 },
 "nbformat": 4,
 "nbformat_minor": 2
}
