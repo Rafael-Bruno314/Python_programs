{
 "cells": [
  {
   "cell_type": "code",
   "execution_count": 2,
   "metadata": {},
   "outputs": [],
   "source": [
    "import numpy as np"
   ]
  },
  {
   "cell_type": "markdown",
   "metadata": {},
   "source": [
    "What is NumPy?\n",
    "NumPy is a Python library used for working with arrays."
   ]
  },
  {
   "cell_type": "markdown",
   "metadata": {},
   "source": [
    "Why Use NumPy?\n",
    "In Python we have lists that serve the purpose of arrays, but they are slow to process.\n",
    "\n",
    "NumPy aims to provide an array object that is up to 50x faster than traditional Python lists."
   ]
  },
  {
   "cell_type": "code",
   "execution_count": 5,
   "metadata": {},
   "outputs": [
    {
     "name": "stdout",
     "output_type": "stream",
     "text": [
      "[1 2 3 4 5]\n",
      "<class 'numpy.ndarray'>\n"
     ]
    }
   ],
   "source": [
    "# Create a NumPy array:\n",
    "arr = np.array([1, 2, 3, 4, 5])\n",
    "\n",
    "print(arr)\n",
    "\n",
    "print(type(arr))\n"
   ]
  },
  {
   "cell_type": "code",
   "execution_count": 6,
   "metadata": {},
   "outputs": [
    {
     "name": "stdout",
     "output_type": "stream",
     "text": [
      "42\n",
      "0\n",
      "--------------------\n",
      "[1 2 3 4 5]\n",
      "1\n",
      "--------------------\n",
      "[[1 2 3]\n",
      " [4 5 6]]\n",
      "2\n",
      "--------------------\n",
      "[[[1 2 3]\n",
      "  [4 5 6]]\n",
      "\n",
      " [[1 2 3]\n",
      "  [4 5 6]]]\n",
      "3\n",
      "--------------------\n"
     ]
    }
   ],
   "source": [
    "#A dimension in arrays is one level of array depth (nested arrays).\n",
    "#nested array: are arrays that have arrays as their elements.\n",
    "#NumPy Arrays provides the ndim attribute that returns an integer that tells us how many dimensions the array have.\n",
    "\n",
    "\"\"\"0D array with value 42\"\"\"\n",
    "arr = np.array(42)\n",
    "print(arr)\n",
    "print(arr.ndim)\n",
    "print('-'*20)\n",
    "\n",
    "\"\"\"1D array\"\"\"\n",
    "arr = np.array([1, 2, 3, 4, 5])\n",
    "print(arr)\n",
    "print(arr.ndim)\n",
    "print('-'*20)\n",
    "\n",
    "\"\"\"2D array\"\"\"\n",
    "arr = np.array([[1, 2, 3], [4, 5, 6]])\n",
    "print(arr)\n",
    "print(arr.ndim)\n",
    "print('-'*20)\n",
    "\n",
    "\"\"\"3D array\"\"\"\n",
    "arr = np.array([[[1, 2, 3], [4, 5, 6]], [[1, 2, 3], [4, 5, 6]]])\n",
    "print(arr)\n",
    "print(arr.ndim)\n",
    "print('-'*20)\n",
    "\n"
   ]
  },
  {
   "cell_type": "code",
   "execution_count": 7,
   "metadata": {},
   "outputs": [
    {
     "name": "stdout",
     "output_type": "stream",
     "text": [
      "[[[[[1 2 3 4]]]]]\n",
      "number of dimensions : 5\n"
     ]
    }
   ],
   "source": [
    "#An array can have any number of dimensions.\n",
    "#When the array is created, you can define the number of dimensions by using the ndmin argument.\n",
    "\n",
    "arr = np.array([1, 2, 3, 4], ndmin=5)\n",
    "\n",
    "print(arr)\n",
    "print('number of dimensions :', arr.ndim)\n",
    "\n"
   ]
  },
  {
   "cell_type": "code",
   "execution_count": 15,
   "metadata": {},
   "outputs": [
    {
     "name": "stdout",
     "output_type": "stream",
     "text": [
      "2nd element on 1st row:  2\n",
      "5th element on 2nd row:  10\n",
      "[[[ 1  2  3]\n",
      "  [ 4  5  6]]\n",
      "\n",
      " [[ 7  8  9]\n",
      "  [10 11 12]]] \n",
      " --------------------\n",
      "6\n",
      "Last element from 2nd dim:  10\n"
     ]
    }
   ],
   "source": [
    "\"\"\" Access Array Elements\n",
    "To access elements from 2-D arrays we can use comma separated integers representing the dimension and the index of the element.\n",
    "\n",
    "Think of 2-D arrays like a table with rows and columns, where the dimension represents the row and the index represents the column.\n",
    "\"\"\"\n",
    "\n",
    "arr = np.array([[1,2,3,4,5], [6,7,8,9,10]])\n",
    "print('2nd element on 1st row: ', arr[0, 1])\n",
    "print('5th element on 2nd row: ', arr[1, 4])\n",
    "\n",
    "arr = np.array([[[1, 2, 3], [4, 5, 6]], [[7, 8, 9], [10, 11, 12]]])\n",
    "print(arr, \"\\n\", \"-\"*20)\n",
    "print(arr[0, 1, 2])\n",
    "\n",
    "\n",
    "arr = np.array([[1,2,3,4,5], [6,7,8,9,10]])\n",
    "print('Last element from 2nd dim: ', arr[1, -1])"
   ]
  },
  {
   "cell_type": "code",
   "execution_count": 24,
   "metadata": {},
   "outputs": [
    {
     "name": "stdout",
     "output_type": "stream",
     "text": [
      "[2 3 4 5]\n",
      "[5 6 7]\n",
      "[1 2 3 4]\n",
      "[5 6]\n",
      "[2 4] <class 'numpy.ndarray'>\n",
      "[1 3 5 7]\n",
      "--------------------\n",
      "[7 8 9]\n",
      "[3 8]\n",
      "[3 8]\n",
      "[[2 3 4]\n",
      " [7 8 9]]\n"
     ]
    }
   ],
   "source": [
    "\"\"\"Slicing arrays\n",
    "Slicing in python means taking elements from one given index to another given index.\n",
    "\"\"\"\n",
    "arr = np.array([1, 2, 3, 4, 5, 6, 7])\n",
    "print(arr[1:5])\n",
    "\n",
    "#Note: The result includes the start index, but excludes the end index.\n",
    "\n",
    "print(arr[4:])\n",
    "print(arr[:4])\n",
    "print(arr[-3:-1])\n",
    "print(arr[1:5:2], type(arr[1:5:2]))\n",
    "print(arr[::2])\n",
    "\n",
    "print(\"-\"*20)\n",
    "\n",
    "arr = np.array([[1, 2, 3, 4, 5], [6, 7, 8, 9, 10]])\n",
    "\n",
    "#From the second element, slice elements from index 1 to index 4 (not included):\n",
    "print(arr[1, 1:4])\n",
    "\n",
    "#From both elements, return index 2:\n",
    "print(arr[:, 2])\n",
    "print(arr[0:2, 2])\n",
    "\n",
    "#From both elements, slice index 1 to index 4 (not included), this will return a 2-D array:\n",
    "print(arr[0:2, 1:4])"
   ]
  },
  {
   "cell_type": "code",
   "execution_count": 30,
   "metadata": {},
   "outputs": [
    {
     "name": "stdout",
     "output_type": "stream",
     "text": [
      "int32\n",
      "<U6\n",
      "[b'1' b'2' b'3' b'4']\n",
      "|S1\n",
      "[1 2 3 4] int32\n"
     ]
    }
   ],
   "source": [
    "\"\"\"Checking the Data Type of an Array\n",
    "The NumPy array object has a property called dtype that returns the data type of the array\n",
    "\"\"\"\n",
    "\n",
    "arr = np.array([1, 2, 3, 4])\n",
    "print(arr.dtype)\n",
    "\n",
    "arr = np.array(['apple', 'banana', 'cherry'])\n",
    "print(arr.dtype)\n",
    "\n",
    "\"\"\"Creating Arrays With a Defined Data Type\"\"\"\n",
    "arr = np.array([1, 2, 3, 4], dtype='S')\n",
    "print(arr)\n",
    "print(arr.dtype)\n",
    "\n",
    "\"\"\"Creating an array with data type 4 bytes integer:\"\"\"\n",
    "arr = np.array([1, 2, 3, 4], dtype='i4')\n",
    "print(arr, arr.dtype)"
   ]
  },
  {
   "cell_type": "code",
   "execution_count": 31,
   "metadata": {},
   "outputs": [
    {
     "ename": "ValueError",
     "evalue": "invalid literal for int() with base 10: 'a'",
     "output_type": "error",
     "traceback": [
      "\u001b[1;31m---------------------------------------------------------------------------\u001b[0m",
      "\u001b[1;31mValueError\u001b[0m                                Traceback (most recent call last)",
      "Cell \u001b[1;32mIn[31], line 1\u001b[0m\n\u001b[1;32m----> 1\u001b[0m arr \u001b[38;5;241m=\u001b[39m np\u001b[38;5;241m.\u001b[39marray([\u001b[38;5;124m'\u001b[39m\u001b[38;5;124ma\u001b[39m\u001b[38;5;124m'\u001b[39m, \u001b[38;5;124m'\u001b[39m\u001b[38;5;124m2\u001b[39m\u001b[38;5;124m'\u001b[39m, \u001b[38;5;124m'\u001b[39m\u001b[38;5;124m3\u001b[39m\u001b[38;5;124m'\u001b[39m], dtype\u001b[38;5;241m=\u001b[39m\u001b[38;5;124m'\u001b[39m\u001b[38;5;124mi\u001b[39m\u001b[38;5;124m'\u001b[39m)\n",
      "\u001b[1;31mValueError\u001b[0m: invalid literal for int() with base 10: 'a'"
     ]
    }
   ],
   "source": [
    "arr = np.array(['a', '2', '3'], dtype='i')"
   ]
  },
  {
   "cell_type": "code",
   "execution_count": 32,
   "metadata": {},
   "outputs": [
    {
     "name": "stdout",
     "output_type": "stream",
     "text": [
      "[1 2 3]\n",
      "int32\n",
      "[ True False  True]\n",
      "bool\n"
     ]
    }
   ],
   "source": [
    "arr = np.array([1.1, 2.1, 3.1])\n",
    "newarr = arr.astype(int)\n",
    "print(newarr)\n",
    "print(newarr.dtype)\n",
    "\n",
    "arr = np.array([1, 0, 3])\n",
    "newarr = arr.astype(bool)\n",
    "print(newarr)\n",
    "print(newarr.dtype)"
   ]
  },
  {
   "cell_type": "code",
   "execution_count": 34,
   "metadata": {},
   "outputs": [
    {
     "name": "stdout",
     "output_type": "stream",
     "text": [
      "[42  2  3  4  5]\n",
      "[1 2 3 4 5]\n",
      "[42  2  3  4  5]\n",
      "[42  2  3  4  5]\n"
     ]
    }
   ],
   "source": [
    "\"\"\"Make a copy, change the original array, and display both arrays\"\"\"\n",
    "\n",
    "arr = np.array([1, 2, 3, 4, 5])\n",
    "x = arr.copy()\n",
    "arr[0] = 42\n",
    "\n",
    "print(arr)\n",
    "print(x)\n",
    "\n",
    "\"\"\"Make a view, change the original array, and display both arrays\"\"\"\n",
    "\n",
    "arr = np.array([1, 2, 3, 4, 5])\n",
    "x = arr.view()\n",
    "arr[0] = 42\n",
    "\n",
    "print(arr)\n",
    "print(x)"
   ]
  },
  {
   "cell_type": "code",
   "execution_count": 3,
   "metadata": {},
   "outputs": [
    {
     "name": "stdout",
     "output_type": "stream",
     "text": [
      "None\n",
      "[1 2 3 4 5]\n"
     ]
    }
   ],
   "source": [
    "\"\"\"Check if Array Owns its Data\n",
    "As mentioned above, copies owns the data, and views does not own the data, but how can we check this?\n",
    "Every NumPy array has the attribute base that returns None if the array owns the data.\n",
    "Otherwise, the base  attribute refers to the original object.\"\"\"\n",
    "\n",
    "arr = np.array([1, 2, 3, 4, 5])\n",
    "\n",
    "x = arr.copy()\n",
    "y = arr.view()\n",
    "\n",
    "print(x.base)\n",
    "print(y.base)"
   ]
  },
  {
   "cell_type": "code",
   "execution_count": 39,
   "metadata": {},
   "outputs": [
    {
     "name": "stdout",
     "output_type": "stream",
     "text": [
      "[[1 2 3 4]\n",
      " [5 6 7 8]] \n",
      " (2, 4)\n",
      "--------------------\n",
      "[[[[[1 2 3 4]]]]]\n",
      "shape of array : (1, 1, 1, 1, 4)\n"
     ]
    }
   ],
   "source": [
    "\"\"\"Shape of an Array\n",
    "The shape of an array is the number of elements in each dimension.\n",
    "\"\"\"\n",
    "\n",
    "arr = np.array([[1, 2, 3, 4], [5, 6, 7, 8]])\n",
    "print(arr, '\\n', arr.shape)\n",
    "\n",
    "print('-'*20)\n",
    "\n",
    "arr = np.array([1, 2, 3, 4], ndmin=5)\n",
    "print(arr)\n",
    "print('shape of array :', arr.shape)"
   ]
  },
  {
   "cell_type": "code",
   "execution_count": 47,
   "metadata": {},
   "outputs": [
    {
     "name": "stdout",
     "output_type": "stream",
     "text": [
      "[[ 1  2  3]\n",
      " [ 4  5  6]\n",
      " [ 7  8  9]\n",
      " [10 11 12]] \n",
      " --------------------\n",
      "[[[ 1  2]\n",
      "  [ 3  4]\n",
      "  [ 5  6]]\n",
      "\n",
      " [[ 7  8]\n",
      "  [ 9 10]\n",
      "  [11 12]]] \n",
      " --------------------\n",
      "[[[ 1  2  3]\n",
      "  [ 4  5  6]]\n",
      "\n",
      " [[ 7  8  9]\n",
      "  [10 11 12]]]\n"
     ]
    }
   ],
   "source": [
    "\"\"\"Reshaping arrays\n",
    "Reshaping means changing the shape of an array.\n",
    "The shape of an array is the number of elements in each dimension.\n",
    "By reshaping we can add or remove dimensions or change number of elements in each dimension\n",
    "\"\"\"\n",
    "\n",
    "arr = np.array([1, 2, 3, 4, 5, 6, 7, 8, 9, 10, 11, 12])\n",
    "\n",
    "#Reshape From 1-D to 2-D\n",
    "newarr = arr.reshape(4, 3)\n",
    "print(newarr, '\\n', '-'*20)\n",
    "\n",
    "#Reshape From 1-D to 3-D\n",
    "newarr = arr.reshape(2, 3, 2)\n",
    "print(newarr, '\\n', '-'*20)\n",
    "\n",
    "\"\"\"Unknown Dimension\n",
    "You are allowed to have one \"unknown\" dimension.\n",
    "Meaning that you do not have to specify an exact number for one of the dimensions in the reshape method.\n",
    "Pass -1 as the value, and NumPy will calculate this number for you\n",
    "Note: We can not pass -1 to more than one dimension.\n",
    "\"\"\"\n",
    "\n",
    "newarr = arr.reshape(2, 2, -1) # '-1' é determinado como '3'\n",
    "print(newarr)\n"
   ]
  },
  {
   "cell_type": "code",
   "execution_count": 55,
   "metadata": {},
   "outputs": [
    {
     "name": "stdout",
     "output_type": "stream",
     "text": [
      "[1 2 3 4 5 6]\n"
     ]
    },
    {
     "data": {
      "text/plain": [
       "'Note: There are a lot of functions for changing the shapes of arrays in numpy flatten, ravel and also for rearranging the elements rot90, flip, fliplr, flipud etc. These fall under Intermediate to Advanced section of numpy'"
      ]
     },
     "execution_count": 55,
     "metadata": {},
     "output_type": "execute_result"
    }
   ],
   "source": [
    "\"\"\"Flattening the arrays\n",
    "Flattening array means converting a multidimensional array into a 1D array.\n",
    "We can use reshape(-1) to do this\n",
    "\"\"\"\n",
    "\n",
    "arr = np.array([[1, 2, 3], [4, 5, 6]])\n",
    "newarr = arr.reshape(-1)\n",
    "print(newarr)\n",
    "\n",
    "\n",
    "\"\"\"Note: There are a lot of functions for changing the shapes of arrays in numpy flatten, ravel and also for rearranging the elements rot90, flip, fliplr, flipud etc. These fall under Intermediate to Advanced section of numpy.\"\"\""
   ]
  },
  {
   "cell_type": "code",
   "execution_count": 60,
   "metadata": {},
   "outputs": [
    {
     "name": "stdout",
     "output_type": "stream",
     "text": [
      "[[1 2 3]\n",
      " [4 5 6]]\n",
      "[[ 7  8  9]\n",
      " [10 11 12]]\n",
      "--------------------\n",
      "1\n",
      "2\n",
      "3\n",
      "4\n",
      "5\n",
      "6\n",
      "7\n",
      "8\n",
      "9\n",
      "10\n",
      "11\n",
      "12\n",
      "--------------------\n",
      "1\n",
      "2\n",
      "3\n",
      "4\n",
      "5\n",
      "6\n",
      "7\n",
      "8\n",
      "9\n",
      "10\n",
      "11\n",
      "12\n",
      "--------------------\n",
      "1\n",
      "2\n",
      "3\n",
      "7\n",
      "8\n",
      "9\n",
      "--------------------\n"
     ]
    }
   ],
   "source": [
    "\"\"\"Iterating Arrays\"\"\"\n",
    "\n",
    "#Iterate on the elements of the following 2-D array\n",
    "arr = np.array([[[1, 2, 3], [4, 5, 6]], [[7, 8, 9], [10, 11, 12]]])\n",
    "\n",
    "for x in arr:\n",
    "  print(x)\n",
    "print('-'*20)\n",
    "\n",
    "#To return the actual values, the scalars, we have to iterate the arrays in each dimension.\n",
    "\n",
    "for x in arr:\n",
    "  for y in x:\n",
    "    for z in y:\n",
    "      print(z)\n",
    "print('-'*20)\n",
    "\n",
    "\"\"\"Iterating Arrays Using nditer()\"\"\"\n",
    "for x in np.nditer(arr):\n",
    "  print(x)\n",
    "print('-'*20)\n",
    "\n",
    "#Iterating With Different Step Size\n",
    "for x in np.nditer(arr[:, ::2]): #Todas as linhas e o intervalo inteiro de 2 em 2\n",
    "  print(x)\n",
    "print('-'*20)\n"
   ]
  },
  {
   "cell_type": "code",
   "execution_count": 61,
   "metadata": {},
   "outputs": [
    {
     "name": "stdout",
     "output_type": "stream",
     "text": [
      "(0, 0, 0) 1\n",
      "(0, 0, 1) 2\n",
      "(0, 0, 2) 3\n",
      "(0, 1, 0) 4\n",
      "(0, 1, 1) 5\n",
      "(0, 1, 2) 6\n",
      "(1, 0, 0) 7\n",
      "(1, 0, 1) 8\n",
      "(1, 0, 2) 9\n",
      "(1, 1, 0) 10\n",
      "(1, 1, 1) 11\n",
      "(1, 1, 2) 12\n"
     ]
    }
   ],
   "source": [
    "#Enumerated Iteration Using ndenumerate()\n",
    "for idx, x in np.ndenumerate(arr):\n",
    "  print(idx, x)"
   ]
  },
  {
   "cell_type": "markdown",
   "metadata": {},
   "source": [
    "No NumPy, o termo **\"axis\"** refere-se às direções (ou eixos) ao longo das quais as operações são realizadas em um array multidimensional. Imagine um array como uma estrutura com várias \"camadas\", e cada eixo representa uma dessas direções.\n",
    "\n",
    "Aqui vai uma analogia para entender melhor:\n",
    "\n",
    "1. **Eixo 0 (axis=0): o eixo das \"linhas\" (de cima para baixo)**.\n",
    "   - Imagine uma tabela com linhas e colunas. O eixo 0 se refere às **linhas** — ele se move de cima para baixo.\n",
    "   - Por exemplo, ao somar um array ao longo do eixo 0 (`np.sum(array, axis=0)`), você está somando valores **em cada coluna**.\n",
    "\n",
    "2. **Eixo 1 (axis=1): o eixo das \"colunas\" (da esquerda para a direita)**.\n",
    "   - Este é o eixo das **colunas** — ele se move da esquerda para a direita.\n",
    "   - Ao somar ao longo do eixo 1 (`np.sum(array, axis=1)`), você está somando valores **em cada linha**.\n",
    "\n",
    "Para uma intuição visual:\n",
    "\n",
    "   - Imagine um array 2D como uma tabela de linhas e colunas:\n",
    "     ```\n",
    "     [[1, 2, 3],\n",
    "      [4, 5, 6],\n",
    "      [7, 8, 9]]\n",
    "     ```\n",
    "\n",
    "   - `np.sum(array, axis=0)` resulta na soma ao longo das colunas (de cima para baixo):\n",
    "     ```\n",
    "     [1+4+7, 2+5+8, 3+6+9] = [12, 15, 18]\n",
    "     ```\n",
    "\n",
    "   - `np.sum(array, axis=1)` resulta na soma ao longo das linhas (da esquerda para a direita):\n",
    "     ```\n",
    "     [1+2+3, 4+5+6, 7+8+9] = [6, 15, 24]\n",
    "     ```\n",
    "\n",
    "Para arrays de dimensões maiores, os eixos seguem essa mesma lógica."
   ]
  },
  {
   "cell_type": "code",
   "execution_count": 70,
   "metadata": {},
   "outputs": [
    {
     "name": "stdout",
     "output_type": "stream",
     "text": [
      "[1 2 3 4 5 6] \n",
      " --------------------\n",
      "[[1 2]\n",
      " [3 4]] \n",
      " --------------------\n",
      "[[5 6]\n",
      " [7 8]] \n",
      " --------------------\n",
      "[[1 2 5 6]\n",
      " [3 4 7 8]] \n",
      " (2, 4) \n",
      " --------------------\n",
      "[[1 2]\n",
      " [3 4]\n",
      " [5 6]\n",
      " [7 8]] \n",
      " (4, 2) \n",
      " --------------------\n"
     ]
    }
   ],
   "source": [
    "\"\"\"Joining NumPy Arrays\n",
    "Joining means putting contents of two or more arrays in a single array.\n",
    "We pass a sequence of arrays that we want to join to the concatenate() function, along with the axis. If axis is not explicitly passed, it is taken as 0.\"\"\"\n",
    "\n",
    "arr1 = np.array([1, 2, 3])\n",
    "arr2 = np.array([4, 5, 6])\n",
    "arr = np.concatenate((arr1, arr2))\n",
    "print(arr, '\\n', '-'*20)\n",
    "\n",
    "#Join two 2-D arrays along rows (axis=1):\n",
    "arr1 = np.array([[1, 2], [3, 4]])\n",
    "print(arr1,'\\n', '-'*20)\n",
    "arr2 = np.array([[5, 6], [7, 8]])\n",
    "print(arr2,'\\n', '-'*20)\n",
    "\n",
    "arr = np.concatenate((arr1, arr2), axis=1)\n",
    "print(arr, '\\n', arr.shape ,'\\n', '-'*20)\n",
    "\n",
    "arr = np.concatenate((arr1, arr2), axis=0)\n",
    "print(arr, '\\n', arr.shape ,'\\n', '-'*20)\n",
    "\n",
    "\n"
   ]
  },
  {
   "cell_type": "code",
   "execution_count": 76,
   "metadata": {},
   "outputs": [
    {
     "name": "stdout",
     "output_type": "stream",
     "text": [
      "[[1 4]\n",
      " [2 5]\n",
      " [3 6]] \n",
      " (3, 2) \n",
      " --------------------\n",
      "[[1 2 3]\n",
      " [4 5 6]] \n",
      " (2, 3) \n",
      " --------------------\n",
      "[1 2 3 4 5 6] \n",
      " (6,) \n",
      " --------------------\n",
      "[[1 2 3]\n",
      " [4 5 6]] \n",
      " (2, 3) \n",
      " --------------------\n",
      "[[[1 4]\n",
      "  [2 5]\n",
      "  [3 6]]] \n",
      " (1, 3, 2) \n",
      " --------------------\n"
     ]
    }
   ],
   "source": [
    "\"\"\"Joining Arrays Using Stack Functions\n",
    "Stacking is same as concatenation, the only difference is that stacking is done along a new axis.\n",
    "We can concatenate two 1-D arrays along the second axis which would result in putting them one over the other, ie. stacking.\n",
    "We pass a sequence of arrays that we want to join to the stack() method along with the axis. If axis is not explicitly passed it is taken as 0.\"\"\"\n",
    "\n",
    "arr1 = np.array([1, 2, 3])\n",
    "arr2 = np.array([4, 5, 6])\n",
    "\n",
    "arr = np.stack((arr1, arr2), axis=1)\n",
    "print(arr, '\\n', arr.shape ,'\\n', '-'*20)\n",
    "\n",
    "arr = np.stack((arr1, arr2), axis=0)\n",
    "print(arr, '\\n', arr.shape ,'\\n', '-'*20)\n",
    "\n",
    "#hstack() to stack along rows (o mesmo que o concatenate ou o reshape(-1))\n",
    "arr = np.hstack((arr1, arr2))\n",
    "print(arr, '\\n', arr.shape ,'\\n', '-'*20)\n",
    "\n",
    "arr = np.vstack((arr1, arr2))\n",
    "print(arr, '\\n', arr.shape ,'\\n', '-'*20)\n",
    "\n",
    "arr = np.dstack((arr1, arr2))\n",
    "print(arr, '\\n', arr.shape ,'\\n', '-'*20)\n"
   ]
  },
  {
   "cell_type": "code",
   "execution_count": 80,
   "metadata": {},
   "outputs": [
    {
     "name": "stdout",
     "output_type": "stream",
     "text": [
      "[[1 2 3]\n",
      " [4 5 6]] (2, 3) \n",
      "\n",
      "[[ 7  8  9]\n",
      " [10 11 12]] (2, 3) \n",
      "\n",
      "[[13 14 15]\n",
      " [16 17 18]] (2, 3) \n",
      "\n",
      "--------------------\n",
      "[[ 1]\n",
      " [ 4]\n",
      " [ 7]\n",
      " [10]\n",
      " [13]\n",
      " [16]] (6, 1) \n",
      "\n",
      "[[ 2]\n",
      " [ 5]\n",
      " [ 8]\n",
      " [11]\n",
      " [14]\n",
      " [17]] (6, 1) \n",
      "\n",
      "[[ 3]\n",
      " [ 6]\n",
      " [ 9]\n",
      " [12]\n",
      " [15]\n",
      " [18]] (6, 1) \n",
      "\n",
      "--------------------\n"
     ]
    }
   ],
   "source": [
    "\"\"\"Split Into Arrays\n",
    "The return value of the array_split() method is an array containing each of the split as an array.\n",
    "If you split an array into 3 arrays, you can access them from the result just like any array element\"\"\"\n",
    "\n",
    "def exibe(newarr):\n",
    "    for x in newarr:\n",
    "        print(x, x.shape, '\\n')\n",
    "    print('-'*20)\n",
    "\n",
    "#Split the 2-D array into three 2-D arrays.\n",
    "arr = np.array([[1, 2, 3], [4, 5, 6], [7, 8, 9], [10, 11, 12], [13, 14, 15], [16, 17, 18]])\n",
    "newarr = np.array_split(arr, 3)\n",
    "exibe(newarr)\n",
    "\t\n",
    "#Split the 2-D array into three 2-D arrays along rows.\n",
    "newarr = np.array_split(arr, 3, axis=1)\n",
    "exibe(newarr)"
   ]
  },
  {
   "cell_type": "code",
   "execution_count": 85,
   "metadata": {},
   "outputs": [
    {
     "name": "stdout",
     "output_type": "stream",
     "text": [
      "(array([3, 5, 6], dtype=int64),)\n",
      "(array([1, 3, 5, 6], dtype=int64),)\n",
      "1\n",
      "2\n",
      "[1 2 3]\n"
     ]
    }
   ],
   "source": [
    "\"\"\"Searching Arrays\n",
    "You can search an array for a certain value, and return the indexes that get a match.\n",
    "To search an array, use the where() method.\"\"\"\n",
    "\n",
    "#The example will return a tuple: (array([3, 5, 6],). Which means that the value 4 is present at index 3, 5, and 6.\n",
    "arr = np.array([1, 2, 3, 4, 5, 4, 4])\n",
    "x = np.where(arr == 4)\n",
    "print(x)\n",
    "\n",
    "#Find the indexes where the values are even:\n",
    "x = np.where(arr%2 == 0)\n",
    "print(x)\n",
    "\n",
    "\n",
    "\"\"\"Search Sorted\n",
    "There is a method called searchsorted() which performs a binary search in the array, and returns the index where the specified value would be inserted to maintain the search order.\n",
    "Note: The searchsorted() method is assumed to be used on sorted arrays.\"\"\"\n",
    "\n",
    "#The number 7 should be inserted on index 1 to remain the sort order.\n",
    "arr = np.array([6, 7, 8, 9])\n",
    "x = np.searchsorted(arr, 7)\n",
    "print(x)\n",
    "\n",
    "#The number 7 should be inserted on index 2 to remain the sort order.\n",
    "x = np.searchsorted(arr, 7, side='right') #Find the indexes where the value 7 should be inserted, starting from the right\n",
    "print(x)\n",
    "\n",
    "#Find the indexes where the values 2, 4, and 6 should be inserted:\n",
    "arr = np.array([1, 3, 5, 7])\n",
    "x = np.searchsorted(arr, [2, 4, 6])\n",
    "print(x)\n",
    "#The return value is an array: [1 2 3] containing the three indexes where 2, 4, 6 would be inserted in the original array to maintain the order.\n",
    "\n"
   ]
  },
  {
   "cell_type": "code",
   "execution_count": 87,
   "metadata": {},
   "outputs": [
    {
     "name": "stdout",
     "output_type": "stream",
     "text": [
      "[0 1 2 3] \n",
      "\n",
      "[[2 3 4]\n",
      " [0 1 5]]\n"
     ]
    }
   ],
   "source": [
    "\"\"\"Sorting Arrays\n",
    "Sorting means putting elements in an ordered sequence.\n",
    "Ordered sequence is any sequence that has an order corresponding to elements, like numeric or alphabetical, ascending or descending.\n",
    "The NumPy ndarray object has a function called sort(), that will sort a specified array.\"\"\"\n",
    "\n",
    "arr = np.array([3, 2, 0, 1])\n",
    "print(np.sort(arr), '\\n')\n",
    "\n",
    "#If you use the sort() method on a 2-D array, both arrays will be sorted:\n",
    "arr = np.array([[3, 2, 4], [5, 0, 1]])\n",
    "print(np.sort(arr))"
   ]
  },
  {
   "cell_type": "code",
   "execution_count": 89,
   "metadata": {},
   "outputs": [
    {
     "name": "stdout",
     "output_type": "stream",
     "text": [
      "[False False  True  True]\n",
      "[43 44]\n",
      "[False  True False  True False  True False]\n",
      "[2 4 6]\n"
     ]
    }
   ],
   "source": [
    "\"\"\"Filtering Arrays\n",
    "Getting some elements out of an existing array and creating a new array out of them is called filtering.\n",
    "In NumPy, you filter an array using a boolean index list (máscara booleana).\"\"\"\n",
    "\n",
    "#Create a filter array that will return only values higher than 42:\n",
    "arr = np.array([41, 42, 43, 44])\n",
    "filter_arr = arr > 42\n",
    "newarr = arr[filter_arr]\n",
    "print(filter_arr)\n",
    "print(newarr)\n",
    "\n",
    "\n",
    "#Create a filter array that will return only even elements from the original array:\n",
    "arr = np.array([1, 2, 3, 4, 5, 6, 7])\n",
    "filter_arr = arr % 2 == 0\n",
    "newarr = arr[filter_arr]\n",
    "print(filter_arr)\n",
    "print(newarr)\n"
   ]
  }
 ],
 "metadata": {
  "kernelspec": {
   "display_name": "base",
   "language": "python",
   "name": "python3"
  },
  "language_info": {
   "codemirror_mode": {
    "name": "ipython",
    "version": 3
   },
   "file_extension": ".py",
   "mimetype": "text/x-python",
   "name": "python",
   "nbconvert_exporter": "python",
   "pygments_lexer": "ipython3",
   "version": "3.11.7"
  }
 },
 "nbformat": 4,
 "nbformat_minor": 2
}
