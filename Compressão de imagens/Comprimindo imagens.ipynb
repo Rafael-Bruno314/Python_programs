{
 "cells": [
  {
   "cell_type": "code",
   "execution_count": null,
   "id": "9c2b6021",
   "metadata": {
    "scrolled": false
   },
   "outputs": [],
   "source": [
    "import os\n",
    "import winsound\n",
    "from PIL import Image\n",
    "\n",
    "\n",
    "def compress_images(directory, quality=30):\n",
    "    # 1. If there is a directory then change into it, else perform the next operations inside of the \n",
    "    # current working directory:\n",
    "    if directory:\n",
    "        os.chdir(directory)\n",
    "\n",
    "    # 2. Extract all of the .png and .jpeg files:\n",
    "    files = os.listdir()\n",
    "\n",
    "    # 3. Extract all of the images:\n",
    "    images = [file for file in files if file.endswith(('jpg', 'png'))]\n",
    "\n",
    "    # 4. Loop over every image:\n",
    "    for image in images:\n",
    "        print(image)\n",
    "\n",
    "        # 5. Open every image:\n",
    "        img = Image.open(image)\n",
    "\n",
    "        # 5. Compress every image and save it with a new name:\n",
    "        img.save(image, optimize=True, quality=quality)\n",
    "\n",
    "\n",
    "directory = \"C:\\\\Users\\\\1234\\\\Pictures\\\\Os sem classificação definida\\\\Gatos\"\n",
    "try:\n",
    "    compress_images(directory)\n",
    "except:\n",
    "    winsound.Beep(2500, 1000)\n",
    "finally:\n",
    "    winsound.Beep(2500, 1000)\n"
   ]
  },
  {
   "cell_type": "code",
   "execution_count": null,
   "id": "5085b084",
   "metadata": {
    "scrolled": true
   },
   "outputs": [],
   "source": [
    "pip uninstall opencv-python"
   ]
  },
  {
   "cell_type": "code",
   "execution_count": 16,
   "id": "8a6719e0",
   "metadata": {
    "scrolled": true
   },
   "outputs": [
    {
     "ename": "ValueError",
     "evalue": "invalid literal for int() with base 10: 'C:\\\\Users\\\\1234\\\\AppData\\\\Roaming\\\\jupyter\\\\runtime\\\\kernel-25335925-f265-4d53-b796-58c80bc356b6.json'",
     "output_type": "error",
     "traceback": [
      "\u001b[1;31m---------------------------------------------------------------------------\u001b[0m",
      "\u001b[1;31mValueError\u001b[0m                                Traceback (most recent call last)",
      "\u001b[1;32m~\\AppData\\Local\\Temp/ipykernel_7360/1719440854.py\u001b[0m in \u001b[0;36m<module>\u001b[1;34m\u001b[0m\n\u001b[0;32m     14\u001b[0m \u001b[1;33m\u001b[0m\u001b[0m\n\u001b[0;32m     15\u001b[0m \u001b[1;31m#range of compression check\u001b[0m\u001b[1;33m\u001b[0m\u001b[1;33m\u001b[0m\u001b[0m\n\u001b[1;32m---> 16\u001b[1;33m \u001b[1;32mif\u001b[0m \u001b[0mint\u001b[0m\u001b[1;33m(\u001b[0m\u001b[0msys\u001b[0m\u001b[1;33m.\u001b[0m\u001b[0margv\u001b[0m\u001b[1;33m[\u001b[0m\u001b[1;36m2\u001b[0m\u001b[1;33m]\u001b[0m\u001b[1;33m)\u001b[0m \u001b[1;32mnot\u001b[0m \u001b[1;32min\u001b[0m \u001b[0mrange\u001b[0m\u001b[1;33m(\u001b[0m\u001b[1;36m1\u001b[0m\u001b[1;33m,\u001b[0m\u001b[1;36m100\u001b[0m\u001b[1;33m)\u001b[0m\u001b[1;33m:\u001b[0m\u001b[1;33m\u001b[0m\u001b[1;33m\u001b[0m\u001b[0m\n\u001b[0m\u001b[0;32m     17\u001b[0m     \u001b[1;32mraise\u001b[0m \u001b[0mException\u001b[0m\u001b[1;33m(\u001b[0m\u001b[1;34m'Compress percent should be in range 1-99'\u001b[0m\u001b[1;33m)\u001b[0m\u001b[1;33m\u001b[0m\u001b[1;33m\u001b[0m\u001b[0m\n\u001b[0;32m     18\u001b[0m \u001b[1;33m\u001b[0m\u001b[0m\n",
      "\u001b[1;31mValueError\u001b[0m: invalid literal for int() with base 10: 'C:\\\\Users\\\\1234\\\\AppData\\\\Roaming\\\\jupyter\\\\runtime\\\\kernel-25335925-f265-4d53-b796-58c80bc356b6.json'"
     ]
    }
   ],
   "source": [
    "import cv2\n",
    "import sys\n",
    "import os\n",
    "\n",
    "# Exception handling\n",
    "#argument check\n",
    "if len(sys.argv) != 3:\n",
    "    raise Exception('Invariant Number of Arguments passed.Please pass one video path and one compress percentage')\n",
    "\n",
    "#file type check\n",
    "t = str(\"C:\\\\Users\\\\1234\\\\Downloads\\\\Video01.mp4\").split(\".\")\n",
    "if t[1] not in [\"mp4\",\"wav\"]:\n",
    "    raise Exception('Raise Exception incompatible file type only mp4 or wav required')\n",
    "\n",
    "#range of compression check\n",
    "if int(sys.argv[2]) not in range(1,100):\n",
    "    raise Exception('Compress percent should be in range 1-99')\n",
    "\n",
    "# file existence check\n",
    "if not os.path.exists(sys.argv[1]):\n",
    "    raise Exception('the video file does not exists or the path is incorrect')\n",
    "\n",
    "\n",
    "# resizing all frames\n",
    "def rescale_frame(frame, percent=75):\n",
    "    width = int(frame.shape[1] * percent/ 100)\n",
    "    height = int(frame.shape[0] * percent/ 100)\n",
    "    dim = (width, height)\n",
    "    return cv2.resize(frame, dim)\n",
    "\n",
    "\n",
    "# getting video and then processing it and saving in filename_ouput.mp4\n",
    "cap = cv2.VideoCapture(\"C:\\\\Users\\\\1234\\\\Downloads\\\\Video01.mp4\")\n",
    "width  = (cap.get(3) * int(sys.argv[2]))/ 100\n",
    "height = (cap.get(4) * int(sys.argv[2]))/ 100\n",
    "# fourcc = cv2.VideoWriter_fourcc(*\"MJPG\")\n",
    "out_video = cv2.VideoWriter(t[0]+'_compressed.mp4',0x7634706d, 20.0, (int(width), int(height)),True)\n",
    "while(cap.isOpened()):\n",
    "        ret, frame = cap.read()\n",
    "        if ret:\n",
    "            frameX = rescale_frame(frame,int(sys.argv[2]))\n",
    "            out_video.write(frameX) \n",
    "            if cv2.waitKey(1) & 0xFF == ord('q'):\n",
    "                break\n",
    "        else:\n",
    "            break\n",
    "cap.release()\n",
    "cv2.destroyAllWindows()"
   ]
  },
  {
   "cell_type": "code",
   "execution_count": 17,
   "id": "ee3e1c5e",
   "metadata": {
    "scrolled": true
   },
   "outputs": [
    {
     "ename": "IndentationError",
     "evalue": "unexpected indent (Temp/ipykernel_7360/3902085057.py, line 3)",
     "output_type": "error",
     "traceback": [
      "\u001b[1;36m  File \u001b[1;32m\"C:\\Users\\1234\\AppData\\Local\\Temp/ipykernel_7360/3902085057.py\"\u001b[1;36m, line \u001b[1;32m3\u001b[0m\n\u001b[1;33m    ffmpeg -i input.mp4 -vcodec libx265 -crf 28 output.mp4\u001b[0m\n\u001b[1;37m    ^\u001b[0m\n\u001b[1;31mIndentationError\u001b[0m\u001b[1;31m:\u001b[0m unexpected indent\n"
     ]
    }
   ],
   "source": []
  }
 ],
 "metadata": {
  "kernelspec": {
   "display_name": "Python 3 (ipykernel)",
   "language": "python",
   "name": "python3"
  },
  "language_info": {
   "codemirror_mode": {
    "name": "ipython",
    "version": 3
   },
   "file_extension": ".py",
   "mimetype": "text/x-python",
   "name": "python",
   "nbconvert_exporter": "python",
   "pygments_lexer": "ipython3",
   "version": "3.9.7"
  }
 },
 "nbformat": 4,
 "nbformat_minor": 5
}
