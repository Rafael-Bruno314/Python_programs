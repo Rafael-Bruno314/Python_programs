{
 "cells": [
  {
   "cell_type": "markdown",
   "id": "176f33a2",
   "metadata": {},
   "source": [
<<<<<<< HEAD
    "pip install apryse-sdk --extra-index-url=https://pypi.apryse.com"
=======
    "#pip install apryse-sdk --extra-index-url=https://pypi.apryse.com"
>>>>>>> 0570f89da4f19104ad2588c5dc9a4f103306b0a0
   ]
  },
  {
   "cell_type": "code",
<<<<<<< HEAD
   "execution_count": 1,
=======
   "execution_count": 6,
>>>>>>> 0570f89da4f19104ad2588c5dc9a4f103306b0a0
   "id": "b00c302d",
   "metadata": {},
   "outputs": [],
   "source": [
    "# Import Libraries\n",
    "import os\n",
    "import sys\n",
<<<<<<< HEAD
    "from apryse_sdk import PDFDoc, Optimizer, SDFDoc, PDFNet\n",
=======
    "from apryse_sdk import PDFDoc, Optimizer, SDFDoc, PDFNet # type: ignore\n",
>>>>>>> 0570f89da4f19104ad2588c5dc9a4f103306b0a0
    "\n",
    "#from PDFNetPython3.PDFNetPython import PDFDoc, Optimizer, SDFDoc, PDFNet"
   ]
  },
  {
   "cell_type": "code",
<<<<<<< HEAD
   "execution_count": 2,
=======
   "execution_count": 7,
>>>>>>> 0570f89da4f19104ad2588c5dc9a4f103306b0a0
   "id": "32e2dfd4",
   "metadata": {},
   "outputs": [],
   "source": [
    "def get_size_format(b, factor=1024, suffix=\"B\"):\n",
    "    \"\"\"\n",
    "    Scale bytes to its proper byte format\n",
    "    e.g:\n",
    "        1253656 => '1.20MB'\n",
    "        1253656678 => '1.17GB'\n",
    "    \"\"\"\n",
    "    for unit in [\"\", \"K\", \"M\", \"G\", \"T\", \"P\", \"E\", \"Z\"]:\n",
    "        if b < factor:\n",
    "            return f\"{b:.2f}{unit}{suffix}\"\n",
    "        b /= factor\n",
    "    return f\"{b:.2f}Y{suffix}\""
   ]
  },
  {
   "cell_type": "code",
<<<<<<< HEAD
   "execution_count": 3,
=======
   "execution_count": 8,
>>>>>>> 0570f89da4f19104ad2588c5dc9a4f103306b0a0
   "id": "bb439035",
   "metadata": {},
   "outputs": [],
   "source": [
    "def compress_file(input_file: str, output_file: str):\n",
    "    \"\"\"Compress PDF file\"\"\"\n",
    "    if not output_file:\n",
    "        output_file = input_file\n",
    "    initial_size = os.path.getsize(input_file)\n",
    "    try:\n",
    "        # Initialize the library\n",
    "        PDFNet.Initialize(\"demo:1652721067096:7b89dd1603000000008ca8f036d3c1112cd0debd5cca3f78321ecf6f88\")\n",
    "        doc = PDFDoc(input_file)\n",
    "        # Optimize PDF with the default settings\n",
    "        doc.InitSecurityHandler()\n",
    "        # Reduce PDF size by removing redundant information and compressing data streams\n",
    "        Optimizer.Optimize(doc)\n",
    "        doc.Save(output_file, SDFDoc.e_linearized)\n",
    "        doc.Close()\n",
    "    except Exception as e:\n",
    "        print(\"Error compress_file=\", e)\n",
    "        doc.Close()\n",
    "        return False\n",
    "    compressed_size = os.path.getsize(output_file)\n",
    "    ratio = 1 - (compressed_size / initial_size)\n",
    "    summary = {\n",
    "        \"Input File\": input_file, \"Initial Size\": get_size_format(initial_size),\n",
    "        \"Output File\": output_file, f\"Compressed Size\": get_size_format(compressed_size),\n",
    "        \"Compression Ratio\": \"{0:.3%}.\".format(ratio)\n",
    "    }\n",
    "    # Printing Summary\n",
    "    print(\"--------------------- Resumo da compressão ------------------------\")\n",
    "    print(\"\\n\".join(\"{}:{}\".format(i, j) for i, j in summary.items()))\n",
    "    print(\"-------------------------------------------------------------------\")\n",
    "    print(\"\")\n",
    "    return True"
   ]
  },
  {
   "cell_type": "code",
<<<<<<< HEAD
   "execution_count": null,
=======
   "execution_count": 9,
>>>>>>> 0570f89da4f19104ad2588c5dc9a4f103306b0a0
   "id": "b8a0198a-69b9-4f6c-a582-c2f643e99561",
   "metadata": {},
   "outputs": [
    {
     "name": "stdout",
     "output_type": "stream",
     "text": [
      "--------------------- Resumo da compressão ------------------------\n",
<<<<<<< HEAD
      "Input File:C:\\Users\\Rafael Bruno\\Downloads\\Livros pdf\\A missa (Por que Creio) (Pe. José Bortolini [Bortolini, Pe. José]) (Z-Library).pdf\n",
      "Initial Size:672.44KB\n",
      "Output File:C:\\Users\\Rafael Bruno\\Downloads\\Livros pdf\\A missa (Por que Creio) (Pe. José Bortolini [Bortolini, Pe. José]) (Z-Library).pdf\n",
      "Compressed Size:672.44KB\n",
      "Compression Ratio:0.000%.\n",
      "-------------------------------------------------------------------\n",
      "\n"
=======
      "Input File:D:\\1234\\Downloads\\Correção - Paulo\\files\\2504\\Bertero et al. - 2024 - MOFs functionalization of 3D printed mullite compl.pdf\n",
      "Initial Size:10.70MB\n",
      "Output File:D:\\1234\\Downloads\\Correção - Paulo\\files\\2504\\Bertero et al. - 2024 - MOFs functionalization of 3D printed mullite compl.pdf\n",
      "Compressed Size:3.57MB\n",
      "Compression Ratio:66.635%.\n",
      "-------------------------------------------------------------------\n",
      "\n",
      "--------------------- Resumo da compressão ------------------------\n",
      "Input File:D:\\1234\\Downloads\\Correção - Paulo\\files\\2505\\Fooladi et al. - 2024 - Titania and zirconia ceramic nanofiltration membra.pdf\n",
      "Initial Size:8.44MB\n",
      "Output File:D:\\1234\\Downloads\\Correção - Paulo\\files\\2505\\Fooladi et al. - 2024 - Titania and zirconia ceramic nanofiltration membra.pdf\n",
      "Compressed Size:4.16MB\n",
      "Compression Ratio:50.770%.\n",
      "-------------------------------------------------------------------\n",
      "\n",
      "--------------------- Resumo da compressão ------------------------\n",
      "Input File:D:\\1234\\Downloads\\Correção - Paulo\\files\\2506\\Hua et al. - 2024 - Preparation of cost-effective and self-reinforced .pdf\n",
      "Initial Size:6.80MB\n",
      "Output File:D:\\1234\\Downloads\\Correção - Paulo\\files\\2506\\Hua et al. - 2024 - Preparation of cost-effective and self-reinforced .pdf\n",
      "Compressed Size:696.55KB\n",
      "Compression Ratio:90.002%.\n",
      "-------------------------------------------------------------------\n",
      "\n",
      "--------------------- Resumo da compressão ------------------------\n",
      "Input File:D:\\1234\\Downloads\\Correção - Paulo\\files\\2507\\Li et al. - 2024 - Preparation of mullite whisker foam ceramics and e.pdf\n",
      "Initial Size:8.85MB\n",
      "Output File:D:\\1234\\Downloads\\Correção - Paulo\\files\\2507\\Li et al. - 2024 - Preparation of mullite whisker foam ceramics and e.pdf\n",
      "Compressed Size:696.29KB\n",
      "Compression Ratio:92.313%.\n",
      "-------------------------------------------------------------------\n",
      "\n",
      "--------------------- Resumo da compressão ------------------------\n",
      "Input File:D:\\1234\\Downloads\\Correção - Paulo\\files\\2509\\Keziz et al. - 2024 - Investigating the dielectric characteristics, elec.pdf\n",
      "Initial Size:19.69MB\n",
      "Output File:D:\\1234\\Downloads\\Correção - Paulo\\files\\2509\\Keziz et al. - 2024 - Investigating the dielectric characteristics, elec.pdf\n",
      "Compressed Size:999.22KB\n",
      "Compression Ratio:95.044%.\n",
      "-------------------------------------------------------------------\n",
      "\n",
      "--------------------- Resumo da compressão ------------------------\n",
      "Input File:D:\\1234\\Downloads\\Correção - Paulo\\files\\2520\\Xu et al. - 2025 - Preparation, microstructure and properties of sola.pdf\n",
      "Initial Size:17.82MB\n",
      "Output File:D:\\1234\\Downloads\\Correção - Paulo\\files\\2520\\Xu et al. - 2025 - Preparation, microstructure and properties of sola.pdf\n",
      "Compressed Size:1.25MB\n",
      "Compression Ratio:92.995%.\n",
      "-------------------------------------------------------------------\n",
      "\n",
      "--------------------- Resumo da compressão ------------------------\n",
      "Input File:D:\\1234\\Downloads\\Correção - Paulo\\files\\2521\\You et al. - 2025 - Amorphous SiOC-coated submicron mullite aerogels w.pdf\n",
      "Initial Size:17.05MB\n",
      "Output File:D:\\1234\\Downloads\\Correção - Paulo\\files\\2521\\You et al. - 2025 - Amorphous SiOC-coated submicron mullite aerogels w.pdf\n",
      "Compressed Size:5.05MB\n",
      "Compression Ratio:70.377%.\n",
      "-------------------------------------------------------------------\n",
      "\n",
      "Otimização concluída!\n"
>>>>>>> 0570f89da4f19104ad2588c5dc9a4f103306b0a0
     ]
    }
   ],
   "source": [
<<<<<<< HEAD
    "input_folder = \"C:\\\\Users\\\\Rafael Bruno\\\\Downloads\\\\Livros pdf\\\\\"\n",
=======
    "input_folder = \"D:\\\\1234\\\\Downloads\\\\Correção - Paulo\\\\files\\\\\"\n",
>>>>>>> 0570f89da4f19104ad2588c5dc9a4f103306b0a0
    "#\"C:\\\\Users\\\\Rafael Bruno\\\\Documents\\\\Formação Pedagógica\\\\PDFs das Disciplinas\\\\Apostila definitiva\\\\\"\n",
    "#\"C:\\\\Users\\\\Rafael Bruno\\\\Documents\\\\Livros\\\\Manuais Compactos do Ensino Médio (e fundamental)\\\\\"\n",
    "\n",
    "for root, dirs, files in os.walk(input_folder):\n",
    "        for file in files:\n",
    "            if file.endswith(\".pdf\"):\n",
    "                pdf_path = os.path.join(root, file)\n",
    "                #output_path = os.path.join(output_folder, file)\n",
    "\n",
    "                # Otimiza o arquivo PDF\n",
    "                #optimize_pdf(pdf_path, output_path)\n",
    "                compress_file(pdf_path, pdf_path)\n",
    "                #print(f\"Arquivo otimizado: {pdf_path}\")\n",
    "\n",
    "print(\"Otimização concluída!\")"
   ]
  }
 ],
 "metadata": {
  "kernelspec": {
   "display_name": "Python 3",
   "language": "python",
   "name": "python3"
  },
  "language_info": {
   "codemirror_mode": {
    "name": "ipython",
    "version": 3
   },
   "file_extension": ".py",
   "mimetype": "text/x-python",
   "name": "python",
   "nbconvert_exporter": "python",
   "pygments_lexer": "ipython3",
   "version": "3.12.8"
  }
 },
 "nbformat": 4,
 "nbformat_minor": 5
}
