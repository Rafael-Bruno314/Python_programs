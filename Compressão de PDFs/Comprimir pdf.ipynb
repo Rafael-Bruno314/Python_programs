{
 "cells": [
  {
   "cell_type": "markdown",
   "id": "8f1bcd29-8970-4d59-9e3a-6eb356e5521b",
   "metadata": {},
   "source": [
    "pip install PDFNetPython3"
   ]
  },
  {
   "cell_type": "markdown",
   "id": "11e5d16e-3fd8-4699-aa66-a72794954627",
   "metadata": {},
   "source": [
    "pip install --upgrade pip"
   ]
  },
  {
   "cell_type": "code",
   "execution_count": 5,
   "id": "b00c302d",
   "metadata": {},
   "outputs": [],
   "source": [
    "# Import Libraries\n",
    "import os\n",
    "import sys\n",
    "from PDFNetPython3.PDFNetPython import PDFDoc, Optimizer, SDFDoc, PDFNet"
   ]
  },
  {
   "cell_type": "code",
   "execution_count": 6,
   "id": "32e2dfd4",
   "metadata": {},
   "outputs": [],
   "source": [
    "def get_size_format(b, factor=1024, suffix=\"B\"):\n",
    "    \"\"\"\n",
    "    Scale bytes to its proper byte format\n",
    "    e.g:\n",
    "        1253656 => '1.20MB'\n",
    "        1253656678 => '1.17GB'\n",
    "    \"\"\"\n",
    "    for unit in [\"\", \"K\", \"M\", \"G\", \"T\", \"P\", \"E\", \"Z\"]:\n",
    "        if b < factor:\n",
    "            return f\"{b:.2f}{unit}{suffix}\"\n",
    "        b /= factor\n",
    "    return f\"{b:.2f}Y{suffix}\""
   ]
  },
  {
   "cell_type": "code",
   "execution_count": 7,
   "id": "bb439035",
   "metadata": {},
   "outputs": [],
   "source": [
    "def compress_file(input_file: str, output_file: str):\n",
    "    \"\"\"Compress PDF file\"\"\"\n",
    "    if not output_file:\n",
    "        output_file = input_file\n",
    "    initial_size = os.path.getsize(input_file)\n",
    "    try:\n",
    "        # Initialize the library\n",
    "        PDFNet.Initialize(\"demo:1652721067096:7b89dd1603000000008ca8f036d3c1112cd0debd5cca3f78321ecf6f88\")\n",
    "        doc = PDFDoc(input_file)\n",
    "        # Optimize PDF with the default settings\n",
    "        doc.InitSecurityHandler()\n",
    "        # Reduce PDF size by removing redundant information and compressing data streams\n",
    "        Optimizer.Optimize(doc)\n",
    "        doc.Save(output_file, SDFDoc.e_linearized)\n",
    "        doc.Close()\n",
    "    except Exception as e:\n",
    "        print(\"Error compress_file=\", e)\n",
    "        doc.Close()\n",
    "        return False\n",
    "    compressed_size = os.path.getsize(output_file)\n",
    "    ratio = 1 - (compressed_size / initial_size)\n",
    "    summary = {\n",
    "        \"Input File\": input_file, \"Initial Size\": get_size_format(initial_size),\n",
    "        \"Output File\": output_file, f\"Compressed Size\": get_size_format(compressed_size),\n",
    "        \"Compression Ratio\": \"{0:.3%}.\".format(ratio)\n",
    "    }\n",
    "    # Printing Summary\n",
    "    print(\"--------------------- Resumo da compressão ------------------------\")\n",
    "    print(\"\\n\".join(\"{}:{}\".format(i, j) for i, j in summary.items()))\n",
    "    print(\"-------------------------------------------------------------------\")\n",
    "    print(\"\")\n",
    "    return True"
   ]
  },
  {
   "cell_type": "code",
   "execution_count": 8,
   "id": "b8a0198a-69b9-4f6c-a582-c2f643e99561",
   "metadata": {},
   "outputs": [
    {
     "name": "stdout",
     "output_type": "stream",
     "text": [
      "--------------------- Resumo da compressão ------------------------\n",
      "Input File:C:\\Users\\Rafael Bruno\\Documents\\Formação Pedagógica\\PDFs das Disciplinas\\Planejamento Escolar e Avaliação da Aprendizagem\\Aprendizagem.pdf\n",
      "Initial Size:996.45KB\n",
      "Output File:C:\\Users\\Rafael Bruno\\Documents\\Formação Pedagógica\\PDFs das Disciplinas\\Planejamento Escolar e Avaliação da Aprendizagem\\Aprendizagem.pdf\n",
      "Compressed Size:644.57KB\n",
      "Compression Ratio:35.313%.\n",
      "-------------------------------------------------------------------\n",
      "\n",
      "--------------------- Resumo da compressão ------------------------\n",
      "Input File:C:\\Users\\Rafael Bruno\\Documents\\Formação Pedagógica\\PDFs das Disciplinas\\Planejamento Escolar e Avaliação da Aprendizagem\\Avaliação da aprendizagem.pdf\n",
      "Initial Size:4.69MB\n",
      "Output File:C:\\Users\\Rafael Bruno\\Documents\\Formação Pedagógica\\PDFs das Disciplinas\\Planejamento Escolar e Avaliação da Aprendizagem\\Avaliação da aprendizagem.pdf\n",
      "Compressed Size:2.98MB\n",
      "Compression Ratio:36.483%.\n",
      "-------------------------------------------------------------------\n",
      "\n",
      "--------------------- Resumo da compressão ------------------------\n",
      "Input File:C:\\Users\\Rafael Bruno\\Documents\\Formação Pedagógica\\PDFs das Disciplinas\\Planejamento Escolar e Avaliação da Aprendizagem\\Avaliação Escolar.pdf\n",
      "Initial Size:885.48KB\n",
      "Output File:C:\\Users\\Rafael Bruno\\Documents\\Formação Pedagógica\\PDFs das Disciplinas\\Planejamento Escolar e Avaliação da Aprendizagem\\Avaliação Escolar.pdf\n",
      "Compressed Size:566.05KB\n",
      "Compression Ratio:36.074%.\n",
      "-------------------------------------------------------------------\n",
      "\n",
      "--------------------- Resumo da compressão ------------------------\n",
      "Input File:C:\\Users\\Rafael Bruno\\Documents\\Formação Pedagógica\\PDFs das Disciplinas\\Planejamento Escolar e Avaliação da Aprendizagem\\Conceito de Planejamento Escolar.pdf\n",
      "Initial Size:1.52MB\n",
      "Output File:C:\\Users\\Rafael Bruno\\Documents\\Formação Pedagógica\\PDFs das Disciplinas\\Planejamento Escolar e Avaliação da Aprendizagem\\Conceito de Planejamento Escolar.pdf\n",
      "Compressed Size:1.03MB\n",
      "Compression Ratio:31.780%.\n",
      "-------------------------------------------------------------------\n",
      "\n",
      "--------------------- Resumo da compressão ------------------------\n",
      "Input File:C:\\Users\\Rafael Bruno\\Documents\\Formação Pedagógica\\PDFs das Disciplinas\\Planejamento Escolar e Avaliação da Aprendizagem\\Processos de planejamento escolar.pdf\n",
      "Initial Size:3.40MB\n",
      "Output File:C:\\Users\\Rafael Bruno\\Documents\\Formação Pedagógica\\PDFs das Disciplinas\\Planejamento Escolar e Avaliação da Aprendizagem\\Processos de planejamento escolar.pdf\n",
      "Compressed Size:1.64MB\n",
      "Compression Ratio:51.719%.\n",
      "-------------------------------------------------------------------\n",
      "\n",
      "Otimização concluída!\n"
     ]
    }
   ],
   "source": [
    "input_folder = \"C:\\\\Users\\\\Rafael Bruno\\\\Documents\\\\Formação Pedagógica\\\\PDFs das Disciplinas\\\\Planejamento Escolar e Avaliação da Aprendizagem\\\\\"\n",
    "#\"C:\\\\Users\\\\Rafael Bruno\\\\Documents\\\\Formação Pedagógica\\\\PDFs das Disciplinas\\\\Apostila definitiva\\\\\"\n",
    "#\"C:\\\\Users\\\\Rafael Bruno\\\\Documents\\\\Livros\\\\Manuais Compactos do Ensino Médio (e fundamental)\\\\\"\n",
    "\n",
    "for root, dirs, files in os.walk(input_folder):\n",
    "        for file in files:\n",
    "            if file.endswith(\".pdf\"):\n",
    "                pdf_path = os.path.join(root, file)\n",
    "                #output_path = os.path.join(output_folder, file)\n",
    "\n",
    "                # Otimiza o arquivo PDF\n",
    "                #optimize_pdf(pdf_path, output_path)\n",
    "                compress_file(pdf_path, pdf_path)\n",
    "                #print(f\"Arquivo otimizado: {pdf_path}\")\n",
    "\n",
    "print(\"Otimização concluída!\")"
   ]
  }
 ],
 "metadata": {
  "kernelspec": {
   "display_name": "base",
   "language": "python",
   "name": "python3"
  },
  "language_info": {
   "codemirror_mode": {
    "name": "ipython",
    "version": 3
   },
   "file_extension": ".py",
   "mimetype": "text/x-python",
   "name": "python",
   "nbconvert_exporter": "python",
   "pygments_lexer": "ipython3",
   "version": "3.11.7"
  }
 },
 "nbformat": 4,
 "nbformat_minor": 5
}
